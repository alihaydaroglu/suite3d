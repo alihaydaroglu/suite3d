{
 "cells": [
  {
   "cell_type": "code",
   "execution_count": 2,
   "id": "eb7412cd-60b9-446c-bc2a-1f241b256299",
   "metadata": {},
   "outputs": [
    {
     "name": "stdout",
     "output_type": "stream",
     "text": [
      "The autoreload extension is already loaded. To reload it, use:\n",
      "  %reload_ext autoreload\n"
     ]
    }
   ],
   "source": [
    "%load_ext autoreload\n",
    "%autoreload 2\n",
    "\n",
    "import os \n",
    "import shutil\n",
    "import numpy as n\n",
    "from datetime import date\n",
    "from matplotlib import pyplot as plt\n",
    "import time\n",
    "import napari"
   ]
  },
  {
   "cell_type": "code",
   "execution_count": 3,
   "id": "72a95df3-32e7-4133-9c36-f84c2a8fafaf",
   "metadata": {},
   "outputs": [
    {
     "name": "stderr",
     "output_type": "stream",
     "text": [
      "/home/ali/anaconda3/envs/suite3d-gpu/lib/python3.8/site-packages/paramiko/pkey.py:100: CryptographyDeprecationWarning: TripleDES has been moved to cryptography.hazmat.decrepit.ciphers.algorithms.TripleDES and will be removed from this module in 48.0.0.\n",
      "  \"cipher\": algorithms.TripleDES,\n",
      "/home/ali/anaconda3/envs/suite3d-gpu/lib/python3.8/site-packages/paramiko/transport.py:258: CryptographyDeprecationWarning: TripleDES has been moved to cryptography.hazmat.decrepit.ciphers.algorithms.TripleDES and will be removed from this module in 48.0.0.\n",
      "  \"class\": algorithms.TripleDES,\n"
     ]
    }
   ],
   "source": [
    "os.chdir('/home/ali/packages/s2p-lbm/')\n",
    "\n",
    "from suite3d.job import Job\n",
    "from suite3d import lbmio, utils, ui\n",
    "from suite3d import tiff_utils as tfu\n",
    "from suite3d import file_utils as flu\n",
    "from suite3d import nbtools as nbui\n",
    "from suite3d import extension as ext"
   ]
  },
  {
   "cell_type": "code",
   "execution_count": null,
   "id": "2a3fea55-3637-4766-833c-d886db498114",
   "metadata": {},
   "outputs": [],
   "source": [
    "subjects_dir =   '/mnt/zortex-subjects/'\n",
    "expt_info = { \n",
    "    'subject':         'TC030',\n",
    "    'date' :          '2025-01-23',\n",
    "    'expnum' :         [4],}\n",
    "n_planes = 9\n",
    "tifs, si_params, exp_str = flu.find_exp(subjects_dir, **expt_info, verbose=False, get_si_params=False)"
   ]
  },
  {
   "cell_type": "code",
   "execution_count": null,
   "id": "0fe6690c-95dd-4c39-b41b-999c5b8c5a5f",
   "metadata": {},
   "outputs": [],
   "source": []
  },
  {
   "cell_type": "code",
   "execution_count": null,
   "id": "cd46341f-ed4a-4a53-9031-45158bb5bd1c",
   "metadata": {},
   "outputs": [],
   "source": []
  },
  {
   "cell_type": "code",
   "execution_count": 14,
   "id": "606bbd81-06d6-4907-b2ea-7844f1c998f8",
   "metadata": {},
   "outputs": [
    {
     "name": "stdout",
     "output_type": "stream",
     "text": [
      "Loading job directory for TC030_2025-01-23_4 in /mnt/md0/runs\n",
      "      Created dir /mnt/md0/runs/s3d-TC030_2025-01-23_4/registered_fused_data\n",
      "      Created dir /mnt/md0/runs/s3d-TC030_2025-01-23_4/summary\n",
      "      Created dir /mnt/md0/runs/s3d-TC030_2025-01-23_4/iters\n",
      "   Loading default params\n",
      "      Updating param lbm\n",
      "      Updating param n_ch_tif\n",
      "      Updating param planes\n",
      "      Updating param multiplane_2p_use_planes\n",
      "      Updating param n_init_files\n",
      "      Updating param fs\n",
      "      Updating param subtract_crosstalk\n",
      "      Updating param fuse_strips\n",
      "      Updating param 3d_reg\n",
      "      Updating param gpu_reg\n",
      "   Updated main params file\n"
     ]
    }
   ],
   "source": [
    "\n",
    "vol_rate = 30 / 9\n",
    "\n",
    "job_params = {   \n",
    "    'lbm' : False,\n",
    "    # number of channels recorded in the tiff file, typically 30\n",
    "    'n_ch_tif' : 9,\n",
    "    # convert from the Scanimage channel ordering to deep-to-shallow ordering\n",
    "    # in our case, ScanImage channel numbers are in temporal order. \n",
    "    'planes' : n.arange(n_planes),\n",
    "    'multiplane_2p_use_planes' : n.array([2,3,4,5,6, 7, 8]),\n",
    "    # number of files to use for the initial pass\n",
    "    'n_init_files' :   1,\n",
    "\n",
    "    # volume rate in acquisition\n",
    "    'fs' : vol_rate,\n",
    "    'lbm' : False,\n",
    "    'subtract_crosstalk' : False,\n",
    "    'fuse_strips' : False,\n",
    "    \n",
    "    # 3D GPU registration - fast! \n",
    "    # for now, 3D + GPU are well-tested, other options might have minor bugs\n",
    "    # if you run into them, let us know! we'll fix them\n",
    "    '3d_reg' : True,\n",
    "    'gpu_reg' : True,\n",
    "}\n",
    "\n",
    "\n",
    "savedir = os.path.join('/mnt/md0/runs', expt_info['subject'], expt_info['date'])\n",
    "os.makedirs(savedir, exist_ok=True)\n",
    "\n",
    "# Create the job\n",
    "job = Job('/mnt/md0/runs',exp_str, tifs = tifs,\n",
    "          params=job_params, create=True, overwrite=True, verbosity = 3)"
   ]
  },
  {
   "cell_type": "code",
   "execution_count": 17,
   "id": "a035b015-f1a2-4b4b-ad9a-8d5b674c256f",
   "metadata": {},
   "outputs": [],
   "source": [
    "from suite3d.io.s3dio import s3dio"
   ]
  },
  {
   "cell_type": "code",
   "execution_count": 22,
   "id": "485ebc18-23ca-4d98-8113-949134ede3c0",
   "metadata": {},
   "outputs": [],
   "source": [
    "import tifffile"
   ]
  },
  {
   "cell_type": "code",
   "execution_count": null,
   "id": "88c23402-46b5-4ae6-b753-a29bee30d453",
   "metadata": {},
   "outputs": [],
   "source": [
    "\n",
    "for tif in job.tifs:\n",
    "    "
   ]
  },
  {
   "cell_type": "code",
   "execution_count": 24,
   "id": "3fc8f617-5d89-4fc3-8361-f7c5c6ded3fc",
   "metadata": {},
   "outputs": [],
   "source": [
    "tf = tifffile.TiffFile(tifs[0])"
   ]
  },
  {
   "cell_type": "code",
   "execution_count": 28,
   "id": "dd1ff891-9059-41bd-9e79-2fbcf03a84ee",
   "metadata": {},
   "outputs": [
    {
     "data": {
      "text/plain": [
       "2"
      ]
     },
     "execution_count": 28,
     "metadata": {},
     "output_type": "execute_result"
    }
   ],
   "source": [
    "len(tf.pages)"
   ]
  },
  {
   "cell_type": "code",
   "execution_count": 21,
   "id": "348549c6-4208-49e7-9b7d-210380abb441",
   "metadata": {},
   "outputs": [
    {
     "data": {
      "text/plain": [
       "['/mnt/zortex-subjects/TC030/2025-01-23/4/2025-01-23_4_TC030_2P_00001_00001.tif',\n",
       " '/mnt/zortex-subjects/TC030/2025-01-23/4/2025-01-23_4_TC030_2P_00001_00002.tif',\n",
       " '/mnt/zortex-subjects/TC030/2025-01-23/4/2025-01-23_4_TC030_2P_00001_00003.tif',\n",
       " '/mnt/zortex-subjects/TC030/2025-01-23/4/2025-01-23_4_TC030_2P_00001_00004.tif',\n",
       " '/mnt/zortex-subjects/TC030/2025-01-23/4/2025-01-23_4_TC030_2P_00001_00005.tif',\n",
       " '/mnt/zortex-subjects/TC030/2025-01-23/4/2025-01-23_4_TC030_2P_00001_00006.tif',\n",
       " '/mnt/zortex-subjects/TC030/2025-01-23/4/2025-01-23_4_TC030_2P_00001_00007.tif',\n",
       " '/mnt/zortex-subjects/TC030/2025-01-23/4/2025-01-23_4_TC030_2P_00001_00008.tif',\n",
       " '/mnt/zortex-subjects/TC030/2025-01-23/4/2025-01-23_4_TC030_2P_00001_00009.tif']"
      ]
     },
     "execution_count": 21,
     "metadata": {},
     "output_type": "execute_result"
    }
   ],
   "source": [
    "for tif in tifs"
   ]
  },
  {
   "cell_type": "code",
   "execution_count": 19,
   "id": "1400d284-0184-4602-91d0-6386689a912c",
   "metadata": {},
   "outputs": [
    {
     "name": "stdout",
     "output_type": "stream",
     "text": [
      "      Loading tiff 1/1: /mnt/zortex-subjects/TC030/2025-01-23/4/2025-01-23_4_TC030_2P_00001_00001.tif\n",
      "   Standard 2P Warning: number of planes does not divide into number of tiff images, dropping 2 frames\n",
      "   Loaded 1 files, total 0.65 GB\n"
     ]
    }
   ],
   "source": [
    "data = s3dio(job).load_data(paths = tifs[:1])"
   ]
  },
  {
   "cell_type": "code",
   "execution_count": null,
   "id": "3cd79798-b27c-4626-8672-02d2d6a44865",
   "metadata": {},
   "outputs": [],
   "source": []
  }
 ],
 "metadata": {
  "kernelspec": {
   "display_name": "Python [conda env:suite3d-gpu]",
   "language": "python",
   "name": "conda-env-suite3d-gpu-py"
  },
  "language_info": {
   "codemirror_mode": {
    "name": "ipython",
    "version": 3
   },
   "file_extension": ".py",
   "mimetype": "text/x-python",
   "name": "python",
   "nbconvert_exporter": "python",
   "pygments_lexer": "ipython3",
   "version": "3.8.20"
  }
 },
 "nbformat": 4,
 "nbformat_minor": 5
}
