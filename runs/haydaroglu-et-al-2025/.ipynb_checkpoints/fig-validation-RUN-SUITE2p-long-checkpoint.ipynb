{
 "cells": [
  {
   "cell_type": "code",
   "execution_count": 1,
   "id": "d11950fd-3877-4710-a0ce-216c41b2f029",
   "metadata": {},
   "outputs": [],
   "source": [
    "%load_ext autoreload\n",
    "%autoreload "
   ]
  },
  {
   "cell_type": "code",
   "execution_count": 2,
   "id": "e9f9827c-9d19-458b-8894-f609f94781e9",
   "metadata": {},
   "outputs": [],
   "source": [
    "\n",
    "import os \n",
    "import shutil\n",
    "import numpy as n\n",
    "from datetime import date\n",
    "from matplotlib import pyplot as plt\n",
    "import time\n",
    "\n",
    "os.chdir('/home/ali/packages/s2p-lbm/')\n",
    "from scipy import stats\n",
    "import suite2p\n",
    "from suite3d import plot_utils as plot"
   ]
  },
  {
   "cell_type": "code",
   "execution_count": 3,
   "id": "3794f23f-f054-45ad-a7d8-d969c7f01d22",
   "metadata": {},
   "outputs": [],
   "source": [
    "from importlib import reload\n",
    "from pathlib import Path"
   ]
  },
  {
   "cell_type": "code",
   "execution_count": 4,
   "id": "53dc324f-3f54-48f4-a172-20fcac6c2d11",
   "metadata": {},
   "outputs": [
    {
     "name": "stdout",
     "output_type": "stream",
     "text": [
      "No skimage\n",
      "Missing some packages\n",
      "Install gitpython for dev benchmarking to work\n",
      "NO MRCFILE\n",
      "Issues importing compute components\n",
      "No Napari\n",
      "No PyQtGraph\n",
      "   Found and loaded params from /mnt/md0/runs/s3d-SS003_2024-08-06_1-2-3-4-5-6/params.npy\n"
     ]
    }
   ],
   "source": [
    "from suite3d.job import Job\n",
    "\n",
    "job = Job('/mnt/md0/runs','SS003_2024-08-06_1-2-3-4-5-6', create=False)"
   ]
  },
  {
   "cell_type": "code",
   "execution_count": 5,
   "id": "738a53b9-ef3e-4e36-94ae-3b03088ee81a",
   "metadata": {},
   "outputs": [],
   "source": [
    "# timing = {'extraction': 96, 'segmentation': 3*60 + 18, 'corrmap' : 104, 'data_io' :}"
   ]
  },
  {
   "cell_type": "code",
   "execution_count": 6,
   "id": "d0048fed-4e6d-4297-aebb-e3820a6e308a",
   "metadata": {},
   "outputs": [],
   "source": [
    "import time"
   ]
  },
  {
   "cell_type": "code",
   "execution_count": 7,
   "id": "6129462f-8742-4c65-9623-a7e7a13c08f0",
   "metadata": {},
   "outputs": [],
   "source": [
    "# io: 103m5s"
   ]
  },
  {
   "cell_type": "code",
   "execution_count": 8,
   "id": "a13b0df9-d99f-4d19-970f-1913a0e9844c",
   "metadata": {},
   "outputs": [],
   "source": [
    "# %%time\n",
    "# # SAVE DATA FOR s2p Run\n",
    "# tic = time.time()\n",
    "# from suite3d.io.s3dio import s3dio\n",
    "# from suite3d import reference_image as ref\n",
    "# import tifffile\n",
    "\n",
    "# jobio = s3dio(job)\n",
    "\n",
    "# raw_data_path = '/mnt/md0/runs/s2p-SS003_2024-08-06_1-2-3-4-5-6/raw'\n",
    "\n",
    "# os.makedirs(raw_data_path,exist_ok=True)\n",
    "\n",
    "# planes = n.array([ 0,  2,  4,  6,  8, 10, 12, 14,\n",
    "#                         16, 18, 20, 22, 24, 1,  3, 5,  7,9,11, 13, 15,17,19,21])[:20]\n",
    "# fuse_shift = 7\n",
    "# ys, xs = jobio._load_roi_start_pix_lbm(job.params)\n",
    "# for tif in job.tifs:\n",
    "#     print(tif)\n",
    "#     data = jobio.load_data([tif], planes = job.params['planes'])\n",
    "#     out_fname = tif.split('/')[-1].split('.')[0] + f'_{len(planes)}planes.tif'\n",
    "#     out_path = os.path.join(raw_data_path, out_fname)\n",
    "#     data = ref.fuse_mov(data, fuse_shift, n.sort(xs))[0]\n",
    "#     data = n.swapaxes(data,0,1)        \n",
    "#     tifffile.imsave(out_path, data)\n",
    "# toc = time.time()\n",
    "# io_time = toc - tic"
   ]
  },
  {
   "cell_type": "code",
   "execution_count": 9,
   "id": "c154a66c-6506-48c9-b523-58730731e946",
   "metadata": {},
   "outputs": [],
   "source": [
    "# io: 103m5s"
   ]
  },
  {
   "cell_type": "code",
   "execution_count": 101,
   "id": "f42b4d96-ae61-4555-b54d-913cfd9e483f",
   "metadata": {},
   "outputs": [],
   "source": [
    "raw_data_path = '/mnt/md0/runs/s2p-SS003_2024-08-06_1-2-3-4-5-6/raw'\n",
    "\n",
    "save_path =  Path( '/mnt/md0/runs/s2p-SS003_2024-08-06_1-2-3-4-5-6/full')\n",
    "\n",
    "ops = suite2p.default_ops()\n",
    "ops['look_one_level_down'] = True\n",
    "ops['subfolders'] = []\n",
    "ops['nplanes'] = 20\n",
    "ops['fs'] = 4.12\n",
    "ops['batch_size'] = 400\n",
    "ops['threshold_scaling'] = 0.1\n",
    "ops['tau'] = 1.3\n",
    "ops['nonrigid'] = False\n",
    "ops['ignore_flyback'] = []\n",
    "ops['data_path'] = [raw_data_path]\n",
    "ops['save_path0'] = str(save_path)\n",
    "# print(ops)\n",
    "ops['do_registration'] = 2"
   ]
  },
  {
   "cell_type": "code",
   "execution_count": null,
   "id": "92f3e558-7e97-4123-9c65-cadcd8b0da9d",
   "metadata": {
    "scrolled": true
   },
   "outputs": [
    {
     "name": "stdout",
     "output_type": "stream",
     "text": [
      "{}\n",
      "tif\n",
      "** Found 192 tifs - converting to binary **\n",
      "1600 frames of binary, time 2.88 sec.\n",
      "3200 frames of binary, time 5.92 sec.\n",
      "4800 frames of binary, time 8.94 sec.\n",
      "6400 frames of binary, time 11.99 sec.\n",
      "8000 frames of binary, time 14.73 sec.\n",
      "9600 frames of binary, time 17.72 sec.\n",
      "11200 frames of binary, time 20.73 sec.\n",
      "12800 frames of binary, time 23.72 sec.\n",
      "14400 frames of binary, time 26.67 sec.\n",
      "16000 frames of binary, time 29.36 sec.\n",
      "17600 frames of binary, time 32.33 sec.\n",
      "19200 frames of binary, time 35.29 sec.\n",
      "20800 frames of binary, time 39.76 sec.\n",
      "22400 frames of binary, time 43.72 sec.\n",
      "24000 frames of binary, time 47.39 sec.\n",
      "25600 frames of binary, time 51.85 sec.\n",
      "27200 frames of binary, time 55.52 sec.\n",
      "28800 frames of binary, time 59.18 sec.\n",
      "30400 frames of binary, time 63.04 sec.\n",
      "32000 frames of binary, time 66.35 sec.\n",
      "33600 frames of binary, time 70.20 sec.\n",
      "35200 frames of binary, time 73.81 sec.\n",
      "36800 frames of binary, time 78.01 sec.\n",
      "38400 frames of binary, time 81.61 sec.\n",
      "40000 frames of binary, time 84.96 sec.\n",
      "41600 frames of binary, time 88.78 sec.\n",
      "43200 frames of binary, time 93.04 sec.\n",
      "44800 frames of binary, time 96.70 sec.\n",
      "46400 frames of binary, time 100.87 sec.\n",
      "48000 frames of binary, time 104.46 sec.\n",
      "49600 frames of binary, time 108.92 sec.\n"
     ]
    }
   ],
   "source": [
    "%%time\n",
    "s3d_tic = time.time()\n",
    "output_ops = suite2p.run_s2p(ops=ops)\n",
    "s3d_toc = time.time()\n",
    "s2p_time = s3d_toc - s3d_time"
   ]
  },
  {
   "cell_type": "code",
   "execution_count": null,
   "id": "76e45327-64cf-441f-b604-943c86632073",
   "metadata": {},
   "outputs": [],
   "source": [
    "print(s2p_time)"
   ]
  },
  {
   "cell_type": "code",
   "execution_count": null,
   "id": "005e9d77-1df8-497f-b349-1d049f38faa3",
   "metadata": {},
   "outputs": [],
   "source": []
  },
  {
   "cell_type": "code",
   "execution_count": null,
   "id": "f927b3ff-9fa6-40cd-a003-ee36a8673276",
   "metadata": {},
   "outputs": [],
   "source": [
    "# plane_time = 59.89"
   ]
  },
  {
   "cell_type": "code",
   "execution_count": 98,
   "id": "25fccc4e-e36f-4fed-8fb1-6b31ea6a7158",
   "metadata": {},
   "outputs": [
    {
     "name": "stderr",
     "output_type": "stream",
     "text": [
      "/tmp/ipykernel_529680/3047596321.py:18: DeprecationWarning: Calling np.sum(generator) is deprecated, and in the future will give a different result. Use np.sum(np.fromiter(generator)) or the python sum builtin instead.\n",
      "  time_s3d = n.sum(timings_s3d[k] for k in timings_s3d.keys())\n"
     ]
    }
   ],
   "source": [
    "timings_s2p_plane = {\n",
    "    # 'init' : 11.7,\n",
    "    'mcorr' :156.43,\n",
    "    'detect' : 182.28,\n",
    "    'extract' : 35.06,\n",
    "}\n",
    "plane_time_s2p = 378 #59.9 * 192 / 9\n",
    "\n",
    "time_s2p = plane_time_s2p * 20\n",
    "\n",
    "timings_s3d = {\n",
    "    'init' : 5*60 + 2,\n",
    "    'mcorr' : 73 * 60,\n",
    "    'detect' : 18 * 60,\n",
    "    'segment' : 143 * 60,\n",
    "    'extract' : 3642,\n",
    "}\n",
    "time_s3d = n.sum(timings_s3d[k] for k in timings_s3d.keys())"
   ]
  },
  {
   "cell_type": "code",
   "execution_count": 99,
   "id": "f332f0fd-bac6-4c9e-84e0-90c29980b73e",
   "metadata": {},
   "outputs": [],
   "source": [
    "timings_s3d_frac = {}\n",
    "for k in timings_s3d.keys():\n",
    "    timings_s3d_frac[k] = timings_s3d[k] / sum((list(timings_s3d.values())))\n",
    "\n",
    "timings_s2p_frac = {}\n",
    "timings_s2p = {}\n",
    "for k in timings_s2p_plane.keys():\n",
    "    timings_s2p_frac[k] = timings_s2p_plane[k] / sum((list(timings_s2p_plane.values())))\n",
    "    timings_s2p[k] = time_s2p * timings_s2p_frac[k]\n",
    "timings_s2p['io'] = 103*60 + 5"
   ]
  },
  {
   "cell_type": "code",
   "execution_count": 100,
   "id": "8097981e-6c7c-4563-9d19-616c061ecc47",
   "metadata": {},
   "outputs": [
    {
     "data": {
      "text/plain": [
       "Text(0.5, 0, 'Hours')"
      ]
     },
     "execution_count": 100,
     "metadata": {},
     "output_type": "execute_result"
    },
    {
     "data": {
      "image/png": "[encoded data removed]",
      "text/plain": [
       "<Figure size 1600x600 with 1 Axes>"
      ]
     },
     "metadata": {},
     "output_type": "display_data"
    }
   ],
   "source": [
    "f,ax = plt.subplots(figsize=(8,3),dpi=200)\n",
    "posy = n.zeros(2)\n",
    "posx = [1,2]\n",
    "colors = {'init' : 'royalblue',\n",
    "          'mcorr': 'steelblue',\n",
    "           'detect' : 'mediumorchid',\n",
    "           'segment' : 'orchid',\n",
    "           'extract' : 'peru',\n",
    "            'io' : 'lightsteelblue'}\n",
    "all_keys = ['io','init', 'mcorr', 'detect', 'segment', 'extract'] #n.unique(list(timings_s3d.keys()) + list(timings_s2p.keys()))\n",
    "for key in all_keys:\n",
    "    s2pval = timings_s2p.get(key,0) / 3600\n",
    "    s3dval = timings_s3d.get(key,0) / 3600\n",
    "    ax.barh(posx, [s2pval, s3dval], left=posy, color=colors.get(key, 'k'))\n",
    "    posy[0] += s2pval\n",
    "    posy[1] += s3dval\n",
    "ax.set_yticks(posx, ['Suite2P', 'Suite3D'], rotation=90)\n",
    "ax.set_xticks([0,8])\n",
    "ax.set_xlabel(\"Hours\")\n",
    "# plt.savefig(fig_dir / 'timing_s2p-s3d.svg',dpi=200, pad_inches =0, bbox_inches='tight')"
   ]
  },
  {
   "cell_type": "code",
   "execution_count": null,
   "id": "a0cb6b55-d1cf-4b34-ac90-ef2ca139c85b",
   "metadata": {},
   "outputs": [],
   "source": []
  },
  {
   "cell_type": "code",
   "execution_count": 41,
   "id": "97b87fc8-b26a-4828-ab9b-87ed6c44fda7",
   "metadata": {},
   "outputs": [
    {
     "data": {
      "text/plain": [
       "25557.333333333332"
      ]
     },
     "execution_count": 41,
     "metadata": {},
     "output_type": "execute_result"
    }
   ],
   "source": [
    "time_s2p"
   ]
  },
  {
   "cell_type": "code",
   "execution_count": 42,
   "id": "48342b3a-904e-4b22-a8b8-988513214d22",
   "metadata": {},
   "outputs": [
    {
     "data": {
      "text/plain": [
       "22124"
      ]
     },
     "execution_count": 42,
     "metadata": {},
     "output_type": "execute_result"
    }
   ],
   "source": [
    "time_s3d"
   ]
  },
  {
   "cell_type": "code",
   "execution_count": 39,
   "id": "8a722fb5-8afd-4f64-9558-e7ded95a3b62",
   "metadata": {},
   "outputs": [
    {
     "data": {
      "text/plain": [
       "{'mcorr': 0.5951960438007771,\n",
       " 'detect': 0.27393147297774634,\n",
       " 'extract': 0.13087248322147652}"
      ]
     },
     "execution_count": 39,
     "metadata": {},
     "output_type": "execute_result"
    }
   ],
   "source": [
    "timings_s2p_frac"
   ]
  },
  {
   "cell_type": "code",
   "execution_count": 40,
   "id": "03c7288a-1c43-4e0f-a4a0-0eba2bcecf01",
   "metadata": {},
   "outputs": [
    {
     "data": {
      "text/plain": [
       "{'init': 0.013650334478394503,\n",
       " 'mcorr': 0.19797504971976135,\n",
       " 'detect': 0.23594286747423612,\n",
       " 'segment': 0.38781413849213525,\n",
       " 'extract': 0.1646176098354728}"
      ]
     },
     "execution_count": 40,
     "metadata": {},
     "output_type": "execute_result"
    }
   ],
   "source": [
    "timings_s3d_frac"
   ]
  },
  {
   "cell_type": "code",
   "execution_count": null,
   "id": "91478b39-00b3-4ed6-a446-981b321b5215",
   "metadata": {},
   "outputs": [],
   "source": []
  },
  {
   "cell_type": "code",
   "execution_count": null,
   "id": "c1bdfd18-d18e-413d-b175-b7ef6436ada5",
   "metadata": {},
   "outputs": [],
   "source": []
  },
  {
   "cell_type": "code",
   "execution_count": null,
   "id": "0b1a8cc3-d4f0-4c00-9e99-c2be3cb5ba50",
   "metadata": {},
   "outputs": [],
   "source": []
  },
  {
   "cell_type": "code",
   "execution_count": null,
   "id": "ddcc8c73-1025-4030-b7ea-e1040842e7d1",
   "metadata": {},
   "outputs": [],
   "source": []
  },
  {
   "cell_type": "code",
   "execution_count": 14,
   "id": "3566420b-198b-4a63-a9b6-1719fd267cd6",
   "metadata": {},
   "outputs": [],
   "source": [
    "plane_times = {'init' : 11, 'mcorr' : 28 + 29, 'segmentation' : 33, 'extraction' : 10}\n",
    "plane_total = sum([plane_times[k] for k in plane_times])"
   ]
  },
  {
   "cell_type": "code",
   "execution_count": 15,
   "id": "f16f2339-50c8-4370-8e73-a95bc60eb60b",
   "metadata": {},
   "outputs": [],
   "source": [
    "total_time = 12*60 + 56\n",
    "timings = {k : total_time * plane_times[k] / plane_total for k in plane_times.keys()}"
   ]
  },
  {
   "cell_type": "code",
   "execution_count": 16,
   "id": "873f1125-df4c-47fa-975c-c1e68c805d95",
   "metadata": {},
   "outputs": [],
   "source": [
    "timings_3d = {'extraction': 96, 'segmentation': 3*60 + 18, 'corrmap' : 104, 'init' : 127, 'mcorr' : 7*60+54 }"
   ]
  },
  {
   "cell_type": "code",
   "execution_count": 17,
   "id": "ad09b3e3-25eb-47c8-8147-496a5091b683",
   "metadata": {},
   "outputs": [],
   "source": [
    "total_time_3d = sum(timings_3d[k] for k in timings_3d.keys())"
   ]
  },
  {
   "cell_type": "code",
   "execution_count": null,
   "id": "4241aa33-a616-4c12-ab92-d3c36d9849ff",
   "metadata": {},
   "outputs": [],
   "source": []
  },
  {
   "cell_type": "code",
   "execution_count": null,
   "id": "d4a39263-adbe-4111-a8af-d06a4a0c5156",
   "metadata": {},
   "outputs": [],
   "source": []
  },
  {
   "cell_type": "code",
   "execution_count": null,
   "id": "795e0ec1-478e-4910-ad2a-d517d993cf18",
   "metadata": {},
   "outputs": [],
   "source": []
  },
  {
   "cell_type": "code",
   "execution_count": 36,
   "id": "381bef32-5a38-4278-894a-6b19e8cd8d1a",
   "metadata": {},
   "outputs": [],
   "source": [
    "all_ops = []\n",
    "all_stats = []\n",
    "Fs = []\n",
    "spks = []\n",
    "iscell = []\n",
    "for plane in n.arange(ops['nplanes']):\n",
    "    planedir = (save_path / 'suite2p' / f'plane{plane}')\n",
    "    statx = planedir / 'stat.npy'\n",
    "    opx = planedir / 'ops.npy'\n",
    "    Fsx = planedir / 'F.npy'\n",
    "    spksx = planedir / 'spks.npy'\n",
    "    iscellx = planedir / 'iscell.npy'\n",
    "    \n",
    "    all_stats.append(n.load(statx, allow_pickle=True))\n",
    "    all_ops.append(n.load(opx, allow_pickle=True).item())\n",
    "    Fs.append(n.load(Fsx))\n",
    "    spks.append(n.load(spksx))\n",
    "    iscell.append(n.load(iscellx))\n",
    "\n",
    "iscell = n.concatenate(iscell).astype(bool)\n",
    "\n",
    "mean_img = n.stack([op['meanImg'] for op in all_ops])\n",
    "\n",
    "ref_img = n.stack([op['refImg'] for op in all_ops])\n",
    "\n",
    "\n",
    "# corr_map = n.stack([op['Vcorr'] for op in all_ops])\n",
    "\n",
    "nz = mean_img.shape[0]"
   ]
  },
  {
   "cell_type": "code",
   "execution_count": 37,
   "id": "3e503313-534e-481d-be27-751e8bee1729",
   "metadata": {},
   "outputs": [],
   "source": [
    "Fs = n.concatenate(Fs)[iscell[:,0]]\n",
    "spks = n.concatenate(spks)[iscell[:,0]]"
   ]
  },
  {
   "cell_type": "code",
   "execution_count": 38,
   "id": "ceed5d4f-707a-4108-a2ee-bb37672cca2c",
   "metadata": {},
   "outputs": [
    {
     "data": {
      "text/plain": [
       "PosixPath('/mnt/md0/runs/s2p-SS003_2024-08-06_2')"
      ]
     },
     "execution_count": 38,
     "metadata": {},
     "output_type": "execute_result"
    }
   ],
   "source": [
    "save_path"
   ]
  },
  {
   "cell_type": "code",
   "execution_count": 39,
   "id": "ed1ce02a-12a8-4677-afff-69901c399b16",
   "metadata": {},
   "outputs": [],
   "source": [
    "n.save(save_path / 'F.npy', Fs)\n",
    "n.save(save_path / 'spks.npy', spks)"
   ]
  },
  {
   "cell_type": "code",
   "execution_count": null,
   "id": "53b18e33-e0fb-4f46-b37b-ffa547c56045",
   "metadata": {},
   "outputs": [],
   "source": []
  },
  {
   "cell_type": "code",
   "execution_count": null,
   "id": "df4aaf22-e91c-468d-85c2-b420db9ccb9b",
   "metadata": {},
   "outputs": [],
   "source": []
  }
 ],
 "metadata": {
  "kernelspec": {
   "display_name": "Python [conda env:suite2p]",
   "language": "python",
   "name": "conda-env-suite2p-py"
  },
  "language_info": {
   "codemirror_mode": {
    "name": "ipython",
    "version": 3
   },
   "file_extension": ".py",
   "mimetype": "text/x-python",
   "name": "python",
   "nbconvert_exporter": "python",
   "pygments_lexer": "ipython3",
   "version": "3.9.20"
  }
 },
 "nbformat": 4,
 "nbformat_minor": 5
}
