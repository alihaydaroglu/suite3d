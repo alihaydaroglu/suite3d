{
 "cells": [
  {
   "cell_type": "code",
   "execution_count": 1,
   "id": "aa58d9ce-78fb-4d89-b7e6-758ec41a5862",
   "metadata": {},
   "outputs": [
    {
     "name": "stderr",
     "output_type": "stream",
     "text": [
      "/home/ali/anaconda3/envs/suite3d-gpu/lib/python3.8/site-packages/paramiko/pkey.py:100: CryptographyDeprecationWarning: TripleDES has been moved to cryptography.hazmat.decrepit.ciphers.algorithms.TripleDES and will be removed from this module in 48.0.0.\n",
      "  \"cipher\": algorithms.TripleDES,\n",
      "/home/ali/anaconda3/envs/suite3d-gpu/lib/python3.8/site-packages/paramiko/transport.py:258: CryptographyDeprecationWarning: TripleDES has been moved to cryptography.hazmat.decrepit.ciphers.algorithms.TripleDES and will be removed from this module in 48.0.0.\n",
      "  \"class\": algorithms.TripleDES,\n"
     ]
    }
   ],
   "source": [
    "%load_ext autoreload\n",
    "%autoreload 2\n",
    "\n",
    "import os \n",
    "import shutil\n",
    "import numpy as n\n",
    "from datetime import date\n",
    "from matplotlib import pyplot as plt\n",
    "import time\n",
    "import napari\n",
    "\n",
    "os.chdir('/home/ali/packages/s2p-lbm/')\n",
    "\n",
    "from suite3d.job import Job\n",
    "from suite3d import lbmio, utils, ui\n",
    "from suite3d.io import get_tif_tag\n",
    "from suite3d.io import tiff_utils as tfu\n",
    "from suite3d import file_utils as flu\n",
    "import colorcet\n",
    "\n",
    "from suite3d import nbtools as nbui"
   ]
  },
  {
   "cell_type": "code",
   "execution_count": null,
   "id": "a17b431b-e5f4-4aa3-9be7-be4e5880fa13",
   "metadata": {},
   "outputs": [],
   "source": []
  },
  {
   "cell_type": "code",
   "execution_count": 2,
   "id": "076144ae-1276-4d77-a340-fa094a44d3ba",
   "metadata": {},
   "outputs": [
    {
     "name": "stdout",
     "output_type": "stream",
     "text": [
      "Job directory /mnt/md0/runs/s3d-SS003_2024-08-06_2_2DREG_FULL already exists\n",
      "Loading job directory for SS003_2024-08-06_2_2DREG_FULL in /mnt/md0/runs\n",
      "   Loading dirs \n",
      "      Found dir registered_fused_data\n",
      "      Found dir summary\n",
      "      Found dir iters\n",
      "   Loading default params\n",
      "      Updating param n_ch_tif\n",
      "      Updating param cavity_size\n",
      "      Updating param planes\n",
      "      Updating param n_init_files\n",
      "      Updating param fuse_shift_override\n",
      "      Updating param subtract_crosstalk\n",
      "      Updating param split_tif_size\n",
      "      Updating param fs\n",
      "      Updating param 3d_reg\n",
      "      Updating param gpu_reg\n",
      "      Updating param nonrigid\n",
      "      Updating param save_dtype\n",
      "      Updating param voxel_size_um\n",
      "      Updating param cell_filt_type\n",
      "      Updating param npil_filt_xy_um\n",
      "      Updating param cell_filt_xy_um\n",
      "      Updating param sdnorm_exp\n",
      "   Updated main params file\n"
     ]
    }
   ],
   "source": [
    "subjects_dir =   '/mnt/zortex-subjects/'\n",
    "expt_info = { \n",
    "    'subject':         'SS003',\n",
    "    'date' :          '2024-08-06',\n",
    "    'expnum' :         [2]}\n",
    "\n",
    "tifs, si_params, exp_str = flu.find_exp(subjects_dir, **expt_info, verbose=False)\n",
    "\n",
    "job_params = {    \n",
    "    # number of channels recorded in the tiff file, typically 30\n",
    "    'n_ch_tif' : 26,\n",
    "    # number of planes in the deeper cavity, typically 15\n",
    "    'cavity_size' : 13,\n",
    "    # convert from the Scanimage channel ordering to deep-to-shallow ordering\n",
    "    # in our case, ScanImage channel numbers are in temporal order. \n",
    "    'planes' : n.array([ 0,  2,  4,  6,  8, 10, 12, 14,\n",
    "                        16, 18, 20, 22, 24, 1,  3, 5,  7,9,11, 13, 15,17,19,21]),\n",
    "    # number of files to use for the initial pass\n",
    "    'n_init_files' :   4,\n",
    "    'fuse_shift_override' : 6,\n",
    "    'subtract_crosstalk' : True,\n",
    "    'split_tif_size' : 100,\n",
    "    \n",
    "    # volume rate in acquisition\n",
    "    'fs' : flu.get_si_params(tifs[0])['vol_rate'],\n",
    "    \n",
    "    '3d_reg' : False,\n",
    "    'gpu_reg' : True,\n",
    "    'nonrigid' : False,\n",
    "    'save_dtype' : \"float16\",\n",
    "\n",
    "    'voxel_size_um' : (20, 3.0, 3.0),\n",
    "    'cell_filt_type' : 'gaussian',\n",
    "    'npil_filt_xy_um' :  80,\n",
    "    'cell_filt_xy_um' :  7.5,\n",
    "    'sdnorm_exp' :  0.80,\n",
    "}\n",
    "\n",
    "\n",
    "job_params['fs'] = si_params['vol_rate']\n",
    "\n",
    "savedir = os.path.join('/mnt/md0/runs', expt_info['subject'], expt_info['date'])\n",
    "os.makedirs(savedir, exist_ok=True)\n",
    "\n",
    "# Create the job\n",
    "job = Job('/mnt/md0/runs',exp_str + '_2DREG_FULL', tifs = tifs,\n",
    "          params=job_params, create=True, overwrite=True, verbosity = 3)"
   ]
  },
  {
   "cell_type": "code",
   "execution_count": null,
   "id": "a997ce48-a67e-42a4-880a-159d01f91f49",
   "metadata": {
    "scrolled": true
   },
   "outputs": [
    {
     "name": "stdout",
     "output_type": "stream",
     "text": [
      "   Saved a copy of params at /mnt/md0/runs/s3d-SS003_2024-08-06_2_2DREG_FULL/summary\n",
      "   Updated main params file\n",
      "Launching initial pass\n",
      "Saving summary to /mnt/md0/runs/s3d-SS003_2024-08-06_2_2DREG_FULL/summary/summary.npy\n",
      "   Loading init tifs with 26 channels\n",
      "      Loading /mnt/zortex-subjects/SS003/2024-08-06/2/2024-08-06_2_SS003_2P_00001_00005.tif\n",
      "    Loaded file into shared memory in 22.76 sec\n",
      "    Workers completed in 1.62 sec\n",
      "    Total time: 24.39 sec\n",
      "      Loading /mnt/zortex-subjects/SS003/2024-08-06/2/2024-08-06_2_SS003_2P_00001_00009.tif\n",
      "    Loaded file into shared memory in 23.39 sec\n",
      "    Workers completed in 2.01 sec\n",
      "    Total time: 25.40 sec\n",
      "      Loading /mnt/zortex-subjects/SS003/2024-08-06/2/2024-08-06_2_SS003_2P_00001_00014.tif\n",
      "    Loaded file into shared memory in 22.95 sec\n",
      "    Workers completed in 2.51 sec\n",
      "    Total time: 25.46 sec\n",
      "      Loading /mnt/zortex-subjects/SS003/2024-08-06/2/2024-08-06_2_SS003_2P_00001_00018.tif\n",
      "    Loaded file into shared memory in 22.62 sec\n",
      "    Workers completed in 2.73 sec\n",
      "    Total time: 25.35 sec\n",
      "   Loaded 4 files, total 11.59 GB\n",
      "   Loaded movie with 400 frames and shape 24, 900, 720\n",
      "      Enforcing positivity in mean image\n",
      "Estiamted crosstalk in 9.941503763198853s\n"
     ]
    },
    {
     "data": {
      "image/png": "[encoded data removed]",
      "text/plain": [
       "<Figure size 640x480 with 1 Axes>"
      ]
     },
     "metadata": {},
     "output_type": "display_data"
    },
    {
     "name": "stdout",
     "output_type": "stream",
     "text": [
      "   Subtracting with estimated coefficient 0.230\n",
      "         Subtracting plane 0 from 13\n",
      "         Subtracting plane 1 from 14\n",
      "         Subtracting plane 2 from 15\n",
      "         Subtracting plane 3 from 16\n",
      "         Subtracting plane 4 from 17\n",
      "         Subtracting plane 5 from 18\n",
      "         Subtracting plane 6 from 19\n",
      "         Subtracting plane 7 from 20\n",
      "         Subtracting plane 8 from 21\n",
      "         Subtracting plane 9 from 22\n",
      "         Subtracting plane 10 from 23\n",
      "[{'uid': '9A1B7D0F2A67F484', 'center': array([0, 0]), 'sizeXY': array([ 2.7  , 16.875]), 'pixXY': array([144, 900])}, {'uid': 'D13AC8ABC660883F', 'center': array([2.7, 0. ]), 'sizeXY': array([ 2.7  , 16.875]), 'pixXY': array([144, 900])}, {'uid': '66DCE42C83645264', 'center': array([5.4, 0. ]), 'sizeXY': array([ 2.7  , 16.875]), 'pixXY': array([144, 900])}, {'uid': '18B13E686766C950', 'center': array([0, 0]), 'sizeXY': array([ 2.7  , 16.875]), 'pixXY': array([144, 900])}, {'uid': '305F5B1ABEA43014', 'center': array([-2.7,  0. ]), 'sizeXY': array([ 2.7  , 16.875]), 'pixXY': array([144, 900])}, {'uid': '886741FECFC3BCA6', 'center': array([-5.4,  0. ]), 'sizeXY': array([ 2.7  , 16.875]), 'pixXY': array([144, 900])}]\n",
      "[288 432 576 288 144   0]\n",
      "[288 432 576 288 144   0]\n",
      "   Using 2d registration\n"
     ]
    }
   ],
   "source": [
    "job.run_init_pass()"
   ]
  },
  {
   "cell_type": "code",
   "execution_count": null,
   "id": "43b65af0-57d9-4328-a60c-9d419674fdff",
   "metadata": {},
   "outputs": [],
   "source": [
    "job.params['nonrigid']"
   ]
  },
  {
   "cell_type": "code",
   "execution_count": null,
   "id": "c8282fd5-86ac-41a1-9589-286d02944395",
   "metadata": {
    "scrolled": true
   },
   "outputs": [],
   "source": [
    "%%time\n",
    "job.register(tifs=job.tifs)"
   ]
  },
  {
   "cell_type": "code",
   "execution_count": null,
   "id": "dba368ed-cd7b-4503-9448-04dbec3a86cd",
   "metadata": {
    "scrolled": true
   },
   "outputs": [
    {
     "name": "stdout",
     "output_type": "stream",
     "text": [
      "   Created dir /mnt/md0/runs/s3d-SS003_2024-08-06_2_2DREG_FULL/corrmap with tag corrmap\n",
      "      Updating self.dirs tag corrmap\n",
      "   Created dir /mnt/md0/runs/s3d-SS003_2024-08-06_2_2DREG_FULL/mov_sub with tag mov_sub\n",
      "      Updating self.dirs tag mov_sub\n",
      "   Saved a copy of params at /mnt/md0/runs/s3d-SS003_2024-08-06_2_2DREG_FULL/corrmap\n",
      "   Updated main params file\n",
      "   Computing correlation map of movie with 2100 frames, volume shape: 24, 937, 720\n",
      "      Running batch 1 of 11\n",
      "         Timer prep completed in 9.532 sec\n",
      "         Timer batch_setup completed in 3.019 sec\n",
      "         Timer batch_edgecrop completed in 0.241 sec\n",
      "         Timer accum_meanmeax completed in 2.703 sec\n",
      "         Timer batch_rolling_mean_filt completed in 2.591 sec\n",
      "         Timer batch_accum_sdmov completed in 7.883 sec\n",
      "         Timer batch_norm_sdmov completed in 1.320 sec\n",
      "         Loading movie into shared memory\n",
      "         Timer dtu_shmem completed in 10.045 sec\n",
      "         Subtracting neuropil and applying cell filters\n",
      "         Timer dtu_npsub_conv3d completed in 18.808 sec\n",
      "         Reducing filtered movie to compute correlation map\n",
      "         Timer dtu_vmap completed in 3.393 sec\n",
      "         Timer dtu_cleanup completed in 4.917 sec\n",
      "         Timer batch_filt_reduce completed in 37.164 sec\n",
      "         Timer batch_accum_vmap completed in 0.080 sec\n",
      "   VMAP std 0.1564583033323288, mean 0.41141635179519653, type float32\n",
      "         Timer batch completed in 55.059 sec\n",
      "         Timer save completed in 8.582 sec\n",
      "      Running batch 2 of 11\n",
      "         Timer prep completed in 9.477 sec\n",
      "         Timer batch_setup completed in 2.933 sec\n",
      "         Timer batch_edgecrop completed in 0.381 sec\n",
      "         Timer accum_meanmeax completed in 2.622 sec\n",
      "         Timer batch_rolling_mean_filt completed in 2.410 sec\n",
      "         Timer batch_accum_sdmov completed in 10.850 sec\n",
      "         Timer batch_norm_sdmov completed in 1.234 sec\n",
      "         Loading movie into shared memory\n",
      "         Timer dtu_shmem completed in 9.825 sec\n",
      "         Subtracting neuropil and applying cell filters\n",
      "         Timer dtu_npsub_conv3d completed in 18.672 sec\n",
      "         Reducing filtered movie to compute correlation map\n",
      "         Timer dtu_vmap completed in 3.548 sec\n",
      "         Timer dtu_cleanup completed in 4.873 sec\n",
      "         Timer batch_filt_reduce completed in 36.919 sec\n",
      "         Timer batch_accum_vmap completed in 0.078 sec\n",
      "   VMAP std 0.1507197916507721, mean 0.4059593081474304, type float32\n",
      "         Timer batch completed in 57.511 sec\n",
      "         Timer save completed in 8.604 sec\n",
      "      Running batch 3 of 11\n",
      "         Timer prep completed in 9.541 sec\n",
      "         Timer batch_setup completed in 3.033 sec\n",
      "         Timer batch_edgecrop completed in 0.412 sec\n",
      "         Timer accum_meanmeax completed in 2.702 sec\n",
      "         Timer batch_rolling_mean_filt completed in 2.505 sec\n",
      "         Timer batch_accum_sdmov completed in 10.615 sec\n",
      "         Timer batch_norm_sdmov completed in 1.289 sec\n",
      "         Loading movie into shared memory\n",
      "         Timer dtu_shmem completed in 9.996 sec\n",
      "         Subtracting neuropil and applying cell filters\n",
      "         Timer dtu_npsub_conv3d completed in 18.046 sec\n",
      "         Reducing filtered movie to compute correlation map\n",
      "         Timer dtu_vmap completed in 3.398 sec\n",
      "         Timer dtu_cleanup completed in 4.660 sec\n",
      "         Timer batch_filt_reduce completed in 36.102 sec\n",
      "         Timer batch_accum_vmap completed in 0.068 sec\n",
      "   VMAP std 0.148065984249115, mean 0.4032132029533386, type float32\n",
      "         Timer batch completed in 56.805 sec\n",
      "         Timer save completed in 8.604 sec\n",
      "      Running batch 4 of 11\n",
      "         Timer prep completed in 9.308 sec\n",
      "         Timer batch_setup completed in 2.932 sec\n",
      "         Timer batch_edgecrop completed in 0.293 sec\n",
      "         Timer accum_meanmeax completed in 2.610 sec\n",
      "         Timer batch_rolling_mean_filt completed in 2.444 sec\n",
      "         Timer batch_accum_sdmov completed in 33.183 sec\n",
      "         Timer batch_norm_sdmov completed in 1.282 sec\n",
      "         Loading movie into shared memory\n",
      "         Timer dtu_shmem completed in 9.832 sec\n",
      "         Subtracting neuropil and applying cell filters\n",
      "         Timer dtu_npsub_conv3d completed in 18.982 sec\n",
      "         Reducing filtered movie to compute correlation map\n",
      "         Timer dtu_vmap completed in 3.557 sec\n",
      "         Timer dtu_cleanup completed in 4.919 sec\n",
      "         Timer batch_filt_reduce completed in 37.292 sec\n",
      "         Timer batch_accum_vmap completed in 0.074 sec\n",
      "   VMAP std 0.14625799655914307, mean 0.4015021026134491, type float32\n",
      "         Timer batch completed in 80.197 sec\n",
      "         Timer save completed in 8.596 sec\n",
      "      Running batch 5 of 11\n",
      "         Timer prep completed in 9.515 sec\n",
      "         Timer batch_setup completed in 3.020 sec\n",
      "         Timer batch_edgecrop completed in 0.411 sec\n",
      "         Timer accum_meanmeax completed in 2.788 sec\n",
      "         Timer batch_rolling_mean_filt completed in 2.624 sec\n",
      "         Timer batch_accum_sdmov completed in 8.129 sec\n",
      "         Timer batch_norm_sdmov completed in 1.876 sec\n",
      "         Loading movie into shared memory\n",
      "         Timer dtu_shmem completed in 10.282 sec\n",
      "         Subtracting neuropil and applying cell filters\n",
      "         Timer dtu_npsub_conv3d completed in 19.105 sec\n",
      "         Reducing filtered movie to compute correlation map\n",
      "         Timer dtu_vmap completed in 3.560 sec\n",
      "         Timer dtu_cleanup completed in 4.746 sec\n",
      "         Timer batch_filt_reduce completed in 37.695 sec\n",
      "         Timer batch_accum_vmap completed in 0.069 sec\n",
      "   VMAP std 0.14494134485721588, mean 0.40066441893577576, type float32\n",
      "         Timer batch completed in 56.694 sec\n",
      "         Timer save completed in 8.519 sec\n",
      "      Running batch 6 of 11\n",
      "         Timer prep completed in 9.946 sec\n",
      "         Timer batch_setup completed in 3.020 sec\n",
      "         Timer batch_edgecrop completed in 0.268 sec\n",
      "         Timer accum_meanmeax completed in 2.680 sec\n",
      "         Timer batch_rolling_mean_filt completed in 2.516 sec\n",
      "         Timer batch_accum_sdmov completed in 7.852 sec\n",
      "         Timer batch_norm_sdmov completed in 1.286 sec\n",
      "         Loading movie into shared memory\n",
      "         Timer dtu_shmem completed in 9.869 sec\n",
      "         Subtracting neuropil and applying cell filters\n",
      "         Timer dtu_npsub_conv3d completed in 19.278 sec\n",
      "         Reducing filtered movie to compute correlation map\n",
      "         Timer dtu_vmap completed in 3.546 sec\n",
      "         Timer dtu_cleanup completed in 4.708 sec\n",
      "         Timer batch_filt_reduce completed in 37.402 sec\n",
      "         Timer batch_accum_vmap completed in 0.074 sec\n",
      "   VMAP std 0.1448010504245758, mean 0.40098774433135986, type float32\n",
      "         Timer batch completed in 55.186 sec\n",
      "         Timer save completed in 8.475 sec\n",
      "      Running batch 7 of 11\n",
      "         Timer prep completed in 9.939 sec\n",
      "         Timer batch_setup completed in 3.050 sec\n",
      "         Timer batch_edgecrop completed in 0.412 sec\n",
      "         Timer accum_meanmeax completed in 2.694 sec\n",
      "         Timer batch_rolling_mean_filt completed in 2.533 sec\n",
      "         Timer batch_accum_sdmov completed in 7.863 sec\n",
      "         Timer batch_norm_sdmov completed in 1.290 sec\n",
      "         Loading movie into shared memory\n",
      "         Timer dtu_shmem completed in 9.885 sec\n",
      "         Subtracting neuropil and applying cell filters\n",
      "         Timer dtu_npsub_conv3d completed in 18.742 sec\n",
      "         Reducing filtered movie to compute correlation map\n",
      "         Timer dtu_vmap completed in 3.596 sec\n",
      "         Timer dtu_cleanup completed in 4.730 sec\n",
      "         Timer batch_filt_reduce completed in 36.955 sec\n",
      "         Timer batch_accum_vmap completed in 0.070 sec\n",
      "   VMAP std 0.14493313431739807, mean 0.40198493003845215, type float32\n",
      "         Timer batch completed in 54.948 sec\n",
      "         Timer save completed in 8.478 sec\n",
      "      Running batch 8 of 11\n",
      "         Timer prep completed in 9.962 sec\n",
      "         Timer batch_setup completed in 3.003 sec\n",
      "         Timer batch_edgecrop completed in 0.240 sec\n",
      "         Timer accum_meanmeax completed in 2.717 sec\n",
      "         Timer batch_rolling_mean_filt completed in 2.568 sec\n",
      "         Timer batch_accum_sdmov completed in 7.889 sec\n",
      "         Timer batch_norm_sdmov completed in 1.284 sec\n",
      "         Loading movie into shared memory\n",
      "         Timer dtu_shmem completed in 9.848 sec\n",
      "         Subtracting neuropil and applying cell filters\n",
      "         Timer dtu_npsub_conv3d completed in 18.998 sec\n",
      "         Reducing filtered movie to compute correlation map\n",
      "         Timer dtu_vmap completed in 3.523 sec\n",
      "         Timer dtu_cleanup completed in 4.675 sec\n",
      "         Timer batch_filt_reduce completed in 37.046 sec\n",
      "         Timer batch_accum_vmap completed in 0.069 sec\n",
      "   VMAP std 0.14500878751277924, mean 0.40252605080604553, type float32\n",
      "         Timer batch completed in 54.898 sec\n",
      "         Timer save completed in 8.479 sec\n",
      "      Running batch 9 of 11\n",
      "         Timer prep completed in 9.829 sec\n",
      "         Timer batch_setup completed in 2.973 sec\n",
      "         Timer batch_edgecrop completed in 0.258 sec\n",
      "         Timer accum_meanmeax completed in 2.655 sec\n",
      "         Timer batch_rolling_mean_filt completed in 2.527 sec\n",
      "         Timer batch_accum_sdmov completed in 7.738 sec\n",
      "         Timer batch_norm_sdmov completed in 1.279 sec\n",
      "         Loading movie into shared memory\n",
      "         Timer dtu_shmem completed in 9.927 sec\n",
      "         Subtracting neuropil and applying cell filters\n",
      "         Timer dtu_npsub_conv3d completed in 18.953 sec\n",
      "         Reducing filtered movie to compute correlation map\n",
      "         Timer dtu_vmap completed in 3.463 sec\n",
      "         Timer dtu_cleanup completed in 4.641 sec\n",
      "         Timer batch_filt_reduce completed in 36.985 sec\n",
      "         Timer batch_accum_vmap completed in 0.072 sec\n",
      "   VMAP std 0.14451012015342712, mean 0.40231063961982727, type float32\n",
      "         Timer batch completed in 54.572 sec\n",
      "         Timer save completed in 8.602 sec\n",
      "      Running batch 10 of 11\n",
      "         Timer prep completed in 9.775 sec\n",
      "         Timer batch_setup completed in 2.955 sec\n",
      "         Timer batch_edgecrop completed in 0.234 sec\n",
      "         Timer accum_meanmeax completed in 2.589 sec\n",
      "         Timer batch_rolling_mean_filt completed in 2.570 sec\n",
      "         Timer batch_accum_sdmov completed in 42.617 sec\n",
      "         Timer batch_norm_sdmov completed in 1.298 sec\n",
      "         Loading movie into shared memory\n",
      "         Timer dtu_shmem completed in 9.889 sec\n",
      "         Subtracting neuropil and applying cell filters\n",
      "         Timer dtu_npsub_conv3d completed in 19.178 sec\n",
      "         Reducing filtered movie to compute correlation map\n",
      "         Timer dtu_vmap completed in 3.591 sec\n",
      "         Timer dtu_cleanup completed in 4.804 sec\n",
      "         Timer batch_filt_reduce completed in 37.464 sec\n",
      "         Timer batch_accum_vmap completed in 0.070 sec\n",
      "   VMAP std 0.14456094801425934, mean 0.40255206823349, type float32\n",
      "         Timer batch completed in 89.883 sec\n",
      "         Timer save completed in 8.499 sec\n",
      "      Running batch 11 of 11\n",
      "         Timer prep completed in 4.793 sec\n",
      "         Timer batch_setup completed in 1.724 sec\n",
      "         Timer batch_edgecrop completed in 0.120 sec\n",
      "         Timer accum_meanmeax completed in 1.356 sec\n",
      "         Timer batch_rolling_mean_filt completed in 1.259 sec\n",
      "         Timer batch_accum_sdmov completed in 3.800 sec\n",
      "         Timer batch_norm_sdmov completed in 0.655 sec\n",
      "         Loading movie into shared memory\n",
      "         Timer dtu_shmem completed in 4.898 sec\n",
      "         Subtracting neuropil and applying cell filters\n"
     ]
    }
   ],
   "source": [
    "job.calculate_corr_map()"
   ]
  },
  {
   "cell_type": "code",
   "execution_count": null,
   "id": "94a9cf7b-0e54-4a9b-90ec-e48424a72f71",
   "metadata": {},
   "outputs": [],
   "source": [
    "from suite3d import extension as ext"
   ]
  },
  {
   "cell_type": "code",
   "execution_count": null,
   "id": "962e600d-966f-4274-b05a-d90b3c169061",
   "metadata": {},
   "outputs": [],
   "source": [
    "corr_map = job.load_corr_map_results()['vmap']\n",
    "corr_map_thresh = ext.thresh_mask_corr_map(corr_map, thresh_window_size_pix = 51, corrmap_thresh_pct = 60)"
   ]
  },
  {
   "cell_type": "code",
   "execution_count": null,
   "id": "b5f513f1-b0cd-4144-bb69-ccebbf0500b1",
   "metadata": {
    "scrolled": true
   },
   "outputs": [],
   "source": [
    "job.params['peak_thresh'] = 0.000\n",
    "job.params['percentile'] = 99\n",
    "job.params['activity_thresh'] = 20.0\n",
    "job.params['extend_thresh'] = 0.035\n",
    "job.params['patch_size_xy'] = (200,200)\n",
    "job.params['patch_overlap_xy'] = (20,20)\n",
    "job.params['max_iter'] = 1000\n",
    "job.params['n_proc_detect'] = 64\n",
    "job.segment_rois(vmap = corr_map_thresh)"
   ]
  },
  {
   "cell_type": "code",
   "execution_count": 9,
   "id": "ae01938a-c2e9-47bc-90cd-42b7d6e7a6ad",
   "metadata": {},
   "outputs": [
    {
     "name": "stdout",
     "output_type": "stream",
     "text": [
      "      Loading from /mnt/md0/runs/s3d-SS003_2024-08-06_2/rois/info.npy\n",
      "      Loading from /mnt/md0/runs/s3d-SS003_2024-08-06_2/rois/stats.npy\n",
      "      Loading from /mnt/md0/runs/s3d-SS003_2024-08-06_2/rois/iscell.npy\n"
     ]
    }
   ],
   "source": [
    "rois = job.load_segmentation_results()"
   ]
  },
  {
   "cell_type": "code",
   "execution_count": 10,
   "id": "f8ba3dbd-af69-4916-acdd-734fcf99f66d",
   "metadata": {},
   "outputs": [],
   "source": [
    "# job.compute_npil_masks(stats_dir = job.dirs['rois'])"
   ]
  },
  {
   "cell_type": "code",
   "execution_count": 11,
   "id": "40ce506f-7d29-4881-b938-4dbcd9ae1fbe",
   "metadata": {},
   "outputs": [
    {
     "name": "stdout",
     "output_type": "stream",
     "text": [
      "   Updated main params file\n",
      "   Movie shape: (24, 2168, 936, 720)\n",
      "22107\n",
      "   Extracting 22107 valid cells, and saving cell flags to /mnt/md0/runs/s3d-SS003_2024-08-06_2/rois/iscell_extracted.npy\n",
      "   Extracting activity\n",
      "         Will extract in 5 batches of 500\n",
      "   Saving intermediate results to /mnt/md0/runs/s3d-SS003_2024-08-06_2/rois\n",
      "   Deconvolving\n",
      "   Saving to /mnt/md0/runs/s3d-SS003_2024-08-06_2/rois\n"
     ]
    }
   ],
   "source": [
    "traces = job.extract_and_deconvolve(stats_dir=job.dirs['rois'],iscell=None)"
   ]
  },
  {
   "cell_type": "code",
   "execution_count": null,
   "id": "e0c72edd-3069-4729-bc17-c52f6c521458",
   "metadata": {},
   "outputs": [],
   "source": []
  },
  {
   "cell_type": "code",
   "execution_count": null,
   "id": "98cad02e-1ece-45d4-8189-ec148e7783cf",
   "metadata": {},
   "outputs": [],
   "source": []
  },
  {
   "cell_type": "code",
   "execution_count": null,
   "id": "770d24c6-1c88-480c-9ad4-5daf6cba3fe9",
   "metadata": {},
   "outputs": [],
   "source": []
  },
  {
   "cell_type": "code",
   "execution_count": null,
   "id": "ae85f807-c20f-4c40-96f5-746065522c24",
   "metadata": {},
   "outputs": [],
   "source": []
  }
 ],
 "metadata": {
  "kernelspec": {
   "display_name": "Python [conda env:suite3d-gpu]",
   "language": "python",
   "name": "conda-env-suite3d-gpu-py"
  },
  "language_info": {
   "codemirror_mode": {
    "name": "ipython",
    "version": 3
   },
   "file_extension": ".py",
   "mimetype": "text/x-python",
   "name": "python",
   "nbconvert_exporter": "python",
   "pygments_lexer": "ipython3",
   "version": "3.8.20"
  }
 },
 "nbformat": 4,
 "nbformat_minor": 5
}
