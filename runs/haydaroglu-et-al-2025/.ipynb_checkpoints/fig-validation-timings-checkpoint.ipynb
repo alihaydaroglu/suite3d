{
 "cells": [
  {
   "cell_type": "code",
   "execution_count": 1,
   "id": "d11950fd-3877-4710-a0ce-216c41b2f029",
   "metadata": {},
   "outputs": [],
   "source": [
    "%load_ext autoreload\n",
    "%autoreload "
   ]
  },
  {
   "cell_type": "code",
   "execution_count": 2,
   "id": "e9f9827c-9d19-458b-8894-f609f94781e9",
   "metadata": {},
   "outputs": [],
   "source": [
    "\n",
    "import os \n",
    "import shutil\n",
    "import numpy as n\n",
    "from datetime import date\n",
    "from matplotlib import pyplot as plt\n",
    "import time\n",
    "\n",
    "os.chdir('/home/ali/packages/s2p-lbm/')\n",
    "from scipy import stats\n",
    "import suite2p\n",
    "from suite3d import plot_utils as plot"
   ]
  },
  {
   "cell_type": "code",
   "execution_count": 3,
   "id": "3794f23f-f054-45ad-a7d8-d969c7f01d22",
   "metadata": {},
   "outputs": [],
   "source": [
    "from importlib import reload\n",
    "from pathlib import Path"
   ]
  },
  {
   "cell_type": "code",
   "execution_count": 4,
   "id": "53dc324f-3f54-48f4-a172-20fcac6c2d11",
   "metadata": {},
   "outputs": [
    {
     "name": "stdout",
     "output_type": "stream",
     "text": [
      "No skimage\n",
      "Missing some packages\n",
      "Install gitpython for dev benchmarking to work\n",
      "NO MRCFILE\n",
      "Issues importing compute components\n",
      "No Napari\n",
      "No PyQtGraph\n",
      "   Found and loaded params from /mnt/md0/runs/s3d-SS003_2024-08-06_1-2-3-4-5-6/params.npy\n"
     ]
    }
   ],
   "source": [
    "from suite3d.job import Job\n",
    "\n",
    "job = Job('/mnt/md0/runs','SS003_2024-08-06_1-2-3-4-5-6', create=False)"
   ]
  },
  {
   "cell_type": "code",
   "execution_count": 45,
   "id": "25fccc4e-e36f-4fed-8fb1-6b31ea6a7158",
   "metadata": {},
   "outputs": [
    {
     "name": "stderr",
     "output_type": "stream",
     "text": [
      "/tmp/ipykernel_761859/2653528485.py:18: DeprecationWarning: Calling np.sum(generator) is deprecated, and in the future will give a different result. Use np.sum(np.fromiter(generator)) or the python sum builtin instead.\n",
      "  time_s3d = n.sum(timings_s3d[k] for k in timings_s3d.keys())\n"
     ]
    }
   ],
   "source": [
    "timings_s2p_plane = {\n",
    "    # 'init' : 11.7,\n",
    "    'mcorr' :156.43,\n",
    "    'detect' : 182.28,\n",
    "    'extract' : 35.06,\n",
    "}\n",
    "plane_time_s2p = 378 #59.9 * 192 / 9\n",
    "\n",
    "time_s2p = plane_time_s2p * 20\n",
    "\n",
    "timings_s3d = {\n",
    "    'init' : 5*60 + 2,\n",
    "    'mcorr' : 73 * 60,\n",
    "    'detect' : 1114,\n",
    "    'segment' : 1685, # 143 * 60,\n",
    "    'extract' : 3642,\n",
    "}\n",
    "time_s3d = n.sum(timings_s3d[k] for k in timings_s3d.keys())"
   ]
  },
  {
   "cell_type": "code",
   "execution_count": 46,
   "id": "f332f0fd-bac6-4c9e-84e0-90c29980b73e",
   "metadata": {},
   "outputs": [],
   "source": [
    "timings_s3d_frac = {}\n",
    "for k in timings_s3d.keys():\n",
    "    timings_s3d_frac[k] = timings_s3d[k] / sum((list(timings_s3d.values())))\n",
    "\n",
    "timings_s2p_frac = {}\n",
    "timings_s2p = {}\n",
    "for k in timings_s2p_plane.keys():\n",
    "    timings_s2p_frac[k] = timings_s2p_plane[k] / sum((list(timings_s2p_plane.values())))\n",
    "    timings_s2p[k] = time_s2p * timings_s2p_frac[k]\n",
    "timings_s2p['io'] = 103*60+5"
   ]
  },
  {
   "cell_type": "code",
   "execution_count": 47,
   "id": "65bdf68d-ab3f-4686-9254-28cb27d17048",
   "metadata": {},
   "outputs": [],
   "source": [
    "fig_dir = Path('/mnt/md0/s3d-figures/fig-val/')\n",
    "plt.rcParams['svg.fonttype'] = 'none'\n",
    "plt.rcParams['font.size'] = 12\n",
    "os.makedirs(fig_dir, exist_ok=True)"
   ]
  },
  {
   "cell_type": "code",
   "execution_count": 48,
   "id": "8097981e-6c7c-4563-9d19-616c061ecc47",
   "metadata": {},
   "outputs": [
    {
     "data": {
      "text/plain": [
       "Text(0.5, 0, 'Hours')"
      ]
     },
     "execution_count": 48,
     "metadata": {},
     "output_type": "execute_result"
    },
    {
     "data": {
      "image/png": "[encoded data removed]",
      "text/plain": [
       "<Figure size 1600x600 with 1 Axes>"
      ]
     },
     "metadata": {},
     "output_type": "display_data"
    }
   ],
   "source": [
    "f,ax = plt.subplots(figsize=(8,3),dpi=200)\n",
    "posy = n.zeros(2)\n",
    "posx = [1,2]\n",
    "colors = {'init' : 'royalblue',\n",
    "          'mcorr': 'steelblue',\n",
    "           'detect' : 'mediumorchid',\n",
    "           'segment' : 'orchid',\n",
    "           'extract' : 'peru',\n",
    "            'io' : 'lightsteelblue'}\n",
    "all_keys = ['io','init', 'mcorr', 'detect', 'segment', 'extract'] #n.unique(list(timings_s3d.keys()) + list(timings_s2p.keys()))\n",
    "for key in all_keys:\n",
    "    s2pval = timings_s2p.get(key,0) / 3600\n",
    "    s3dval = timings_s3d.get(key,0) / 3600\n",
    "    ax.barh(posx, [s2pval, s3dval], left=posy, color=colors.get(key, 'k'))\n",
    "    posy[0] += s2pval\n",
    "    posy[1] += s3dval\n",
    "ax.set_yticks(posx, ['Suite2P', 'Suite3D'], rotation=90)\n",
    "ax.set_xticks([0,8])\n",
    "ax.set_xlabel(\"Hours\")\n",
    "# plt.savefig(fig_dir / 'timing_s2p-s3d.svg',dpi=200, pad_inches =0, bbox_inches='tight')"
   ]
  },
  {
   "cell_type": "code",
   "execution_count": 8,
   "id": "53b18e33-e0fb-4f46-b37b-ffa547c56045",
   "metadata": {},
   "outputs": [],
   "source": []
  },
  {
   "cell_type": "code",
   "execution_count": null,
   "id": "df4aaf22-e91c-468d-85c2-b420db9ccb9b",
   "metadata": {},
   "outputs": [],
   "source": []
  }
 ],
 "metadata": {
  "kernelspec": {
   "display_name": "Python [conda env:suite2p]",
   "language": "python",
   "name": "conda-env-suite2p-py"
  },
  "language_info": {
   "codemirror_mode": {
    "name": "ipython",
    "version": 3
   },
   "file_extension": ".py",
   "mimetype": "text/x-python",
   "name": "python",
   "nbconvert_exporter": "python",
   "pygments_lexer": "ipython3",
   "version": "3.9.20"
  }
 },
 "nbformat": 4,
 "nbformat_minor": 5
}
