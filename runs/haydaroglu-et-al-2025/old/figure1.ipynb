{
 "cells": [
  {
   "cell_type": "code",
   "execution_count": 1,
   "id": "514d12c1-1193-4996-999d-139ff7e8acbe",
   "metadata": {},
   "outputs": [
    {
     "name": "stderr",
     "output_type": "stream",
     "text": [
      "/home/ali/anaconda3/envs/suite3d-gpu/lib/python3.8/site-packages/paramiko/pkey.py:100: CryptographyDeprecationWarning: TripleDES has been moved to cryptography.hazmat.decrepit.ciphers.algorithms.TripleDES and will be removed from this module in 48.0.0.\n",
      "  \"cipher\": algorithms.TripleDES,\n",
      "/home/ali/anaconda3/envs/suite3d-gpu/lib/python3.8/site-packages/paramiko/transport.py:258: CryptographyDeprecationWarning: TripleDES has been moved to cryptography.hazmat.decrepit.ciphers.algorithms.TripleDES and will be removed from this module in 48.0.0.\n",
      "  \"class\": algorithms.TripleDES,\n"
     ]
    }
   ],
   "source": [
    "%load_ext autoreload\n",
    "%autoreload 2\n",
    "\n",
    "import os \n",
    "import shutil\n",
    "import numpy as n\n",
    "from datetime import date\n",
    "from matplotlib import pyplot as plt\n",
    "from pathlib import Path\n",
    "import time\n",
    "import napari\n",
    "\n",
    "os.chdir('/home/ali/packages/s2p-lbm/')\n",
    "\n",
    "from suite3d.job import Job\n",
    "from suite3d import lbmio, utils, ui\n",
    "from suite3d.io import get_tif_tag\n",
    "from suite3d.io import tiff_utils as tfu\n",
    "from suite3d import file_utils as flu\n",
    "import colorcet"
   ]
  },
  {
   "cell_type": "code",
   "execution_count": 2,
   "id": "94c656f5-cb8e-4f7f-90f2-5f9d69e4c06a",
   "metadata": {},
   "outputs": [],
   "source": []
  },
  {
   "cell_type": "code",
   "execution_count": 3,
   "id": "aeba8f90-2922-4c3a-9bfc-6b6cc227de1a",
   "metadata": {},
   "outputs": [
    {
     "name": "stdout",
     "output_type": "stream",
     "text": [
      "   Found and loaded params from /mnt/md0/runs/s3d-SS003_2024-08-06_2/params.npy\n"
     ]
    }
   ],
   "source": [
    "\n",
    "# Create the job\n",
    "job = Job('/mnt/md0/runs','SS003_2024-08-06_2', create=False)"
   ]
  },
  {
   "cell_type": "code",
   "execution_count": 4,
   "id": "35f2d31e-6eb4-49cc-b11b-f8bdab057b75",
   "metadata": {},
   "outputs": [],
   "source": [
    "summary = job.load_summary()\n",
    "img3d = summary['ref_img_3d']"
   ]
  },
  {
   "cell_type": "markdown",
   "id": "50db248d-dd31-49a6-b530-4edf430fe8a4",
   "metadata": {},
   "source": [
    "## Plot the stack and z-view"
   ]
  },
  {
   "cell_type": "code",
   "execution_count": 5,
   "id": "357ea8d5-65f2-483d-a61e-2f6f466c9604",
   "metadata": {},
   "outputs": [],
   "source": [
    "fig_dir = Path('/mnt/md0/s3d-figures')\n",
    "figname = 'stack3d'\n",
    "fdir = fig_dir / figname\n",
    "os.makedirs(fdir, exist_ok=True)"
   ]
  },
  {
   "cell_type": "code",
   "execution_count": 6,
   "id": "7f6420d7-8582-4bed-bf83-053249d6c49a",
   "metadata": {},
   "outputs": [],
   "source": [
    "clipy = (50, 850)\n",
    "clipx = (50, 650)\n",
    "nz, ny, nx = img3d.shape"
   ]
  },
  {
   "cell_type": "code",
   "execution_count": 7,
   "id": "a952a175-4eff-4d6c-9a07-6d24e5043655",
   "metadata": {},
   "outputs": [],
   "source": [
    "mov = job.get_registered_movie()#.compute()"
   ]
  },
  {
   "cell_type": "code",
   "execution_count": 14,
   "id": "6dd688cf-e143-4520-b6da-a62d73820d6f",
   "metadata": {},
   "outputs": [],
   "source": [
    "# img = mov.mean(axis=1).compute()"
   ]
  },
  {
   "cell_type": "code",
   "execution_count": null,
   "id": "983f123d-b441-4d86-8bbd-754286aaf149",
   "metadata": {},
   "outputs": [],
   "source": []
  },
  {
   "cell_type": "code",
   "execution_count": null,
   "id": "a9ef0d29-8441-4a2a-a8e5-4e47f4f4d2cc",
   "metadata": {},
   "outputs": [],
   "source": []
  },
  {
   "cell_type": "code",
   "execution_count": null,
   "id": "7bb7192d-fce7-4a8e-9d91-46c4d2bc954d",
   "metadata": {
    "scrolled": true
   },
   "outputs": [],
   "source": [
    "# plane_idx = 15\n",
    "# for plane_idx in range(nz):\n",
    "#     f,ax,__ = tfu.show_tif(img3d[plane_idx, clipy[0]:clipy[1], clipx[0]:clipx[1]],\n",
    "#                            facecolor='none', figsize=(12,24), dpi=200)\n",
    "#     plt.savefig(fdir / f\"plane-{plane_idx:02d}.svg\", bbox_inches='tight',pad_inches=0)\n"
   ]
  },
  {
   "cell_type": "code",
   "execution_count": 33,
   "id": "bb11207e-26bc-477e-9d84-a2e0592dc4e9",
   "metadata": {},
   "outputs": [],
   "source": [
    "pz, py, px = 20, 3.0, 3.0 "
   ]
  },
  {
   "cell_type": "code",
   "execution_count": 51,
   "id": "2937053a-50e7-424f-bd48-cbac2030a104",
   "metadata": {},
   "outputs": [
    {
     "data": {
      "text/plain": [
       "2808"
      ]
     },
     "execution_count": 51,
     "metadata": {},
     "output_type": "execute_result"
    }
   ],
   "source": [
    "936 * 3"
   ]
  },
  {
   "cell_type": "code",
   "execution_count": 52,
   "id": "e3749ce1-32ef-4a3a-9f9b-58dc34376f03",
   "metadata": {},
   "outputs": [
    {
     "data": {
      "text/plain": [
       "2160"
      ]
     },
     "execution_count": 52,
     "metadata": {},
     "output_type": "execute_result"
    }
   ],
   "source": [
    "720 * 3"
   ]
  },
  {
   "cell_type": "code",
   "execution_count": 49,
   "id": "533bde7b-716f-437a-a8c1-e60d465bd17f",
   "metadata": {},
   "outputs": [
    {
     "data": {
      "text/plain": [
       "(24, 936, 720)"
      ]
     },
     "execution_count": 49,
     "metadata": {},
     "output_type": "execute_result"
    }
   ],
   "source": [
    "img_mnorm.shape"
   ]
  },
  {
   "cell_type": "code",
   "execution_count": 43,
   "id": "d3d98344-fd45-47ed-a144-e4ad5dc830fd",
   "metadata": {},
   "outputs": [],
   "source": [
    "img_mnorm = img / img.mean(axis=(1,2), keepdims=True)\n",
    "img_pnorm = img / n.percentile(img, q=90, axis=(1,2),keepdims=True)"
   ]
  },
  {
   "cell_type": "code",
   "execution_count": 48,
   "id": "5cbdb8d9-bc7a-4321-bfc0-8e2c8fe3e816",
   "metadata": {},
   "outputs": [
    {
     "data": {
      "image/png": "[encoded data removed]",
      "text/plain": [
       "<Figure size 2400x2000 with 1 Axes>"
      ]
     },
     "metadata": {},
     "output_type": "display_data"
    }
   ],
   "source": [
    "tfu.show_tif(img_pnorm[:25,600], px_py = (py,pz), vminmax_percentile=(0,99.99), figsize=(12,10),dpi=200)\n",
    "plt.savefig(fdir / \"zview-600.svg\", bbox_inches='tight',pad_inches=0)"
   ]
  },
  {
   "cell_type": "code",
   "execution_count": 55,
   "id": "dd4192e4-9e10-4855-8251-27df226486ae",
   "metadata": {},
   "outputs": [
    {
     "name": "stdout",
     "output_type": "stream",
     "text": [
      "      Loading from /mnt/md0/runs/s3d-SS003_2024-08-06_2/rois/info.npy\n",
      "      Loading from /mnt/md0/runs/s3d-SS003_2024-08-06_2/rois/stats.npy\n",
      "      Loading from /mnt/md0/runs/s3d-SS003_2024-08-06_2/rois/iscell.npy\n"
     ]
    }
   ],
   "source": [
    "rois = job.load_segmentation_results()"
   ]
  },
  {
   "cell_type": "markdown",
   "id": "5adac2b5-6943-4831-b191-06944339dbcc",
   "metadata": {},
   "source": [
    "## Make 3D Seg Figure"
   ]
  },
  {
   "cell_type": "code",
   "execution_count": 56,
   "id": "feefccf8-8df0-47e4-a5bd-ceea07269ec4",
   "metadata": {},
   "outputs": [],
   "source": [
    "seg = rois"
   ]
  },
  {
   "cell_type": "code",
   "execution_count": 60,
   "id": "235683c3-90b2-44e6-8e95-67a4d96582ff",
   "metadata": {},
   "outputs": [],
   "source": [
    "iscell =seg['iscell'][:,0].astype(bool)"
   ]
  },
  {
   "cell_type": "code",
   "execution_count": 66,
   "id": "1fd0d5c1-404b-4859-a0a4-f943fe70e22d",
   "metadata": {},
   "outputs": [],
   "source": [
    "good_cells = n.arange(len(seg['stats']))[iscell]"
   ]
  },
  {
   "cell_type": "code",
   "execution_count": 67,
   "id": "dd7d339f-d20e-4e22-96d7-171e67e1013b",
   "metadata": {},
   "outputs": [],
   "source": [
    "n.random.seed(10)\n",
    "shuff_cells = good_cells.copy()\n",
    "n.random.shuffle(shuff_cells)"
   ]
  },
  {
   "cell_type": "code",
   "execution_count": 79,
   "id": "eeb9d382-1920-4877-94d1-f7cfb21415f7",
   "metadata": {},
   "outputs": [],
   "source": [
    "n_files = 8\n",
    "nc = len(shuff_cells)\n",
    "batchsize = nc // n_files\n",
    "for i in range(n_files):\n",
    "    cx = shuff_cells[i*batchsize:i*batchsize + batchsize]\n",
    "    filefilt = n.zeros_like(iscell)\n",
    "    filefilt[cx] = True\n",
    "\n",
    "    __, filevol = ui.make_label_vols(seg['stats'], img.shape, lam_max=1.0, cmap='cet_glasbey_dark',\n",
    "                                             iscell = filefilt)\n",
    "    tfu.save_mrc('/mnt/md0/s3d-figures/fig1-mrcs/',f'subset_cells_c{i:02d}.mrc', filevol[:,:,:,3],\n",
    "            voxel_size=(3.0,3.0, 20))"
   ]
  },
  {
   "cell_type": "code",
   "execution_count": 78,
   "id": "06ec7d42-f4fa-48e8-a757-726913549b3c",
   "metadata": {},
   "outputs": [
    {
     "data": {
      "text/plain": [
       "(24, 936, 720)"
      ]
     },
     "execution_count": 78,
     "metadata": {},
     "output_type": "execute_result"
    }
   ],
   "source": [
    "filevol[:,:,:,-1].shape"
   ]
  },
  {
   "cell_type": "code",
   "execution_count": 81,
   "id": "db0803ce-57c3-4219-985b-97d77be7e437",
   "metadata": {},
   "outputs": [
    {
     "data": {
      "text/html": [
       "<table>\n",
       "    <tr>\n",
       "        <td>\n",
       "            <table style=\"border-collapse: collapse;\">\n",
       "                <thead>\n",
       "                    <tr>\n",
       "                        <td> </td>\n",
       "                        <th> Array </th>\n",
       "                        <th> Chunk </th>\n",
       "                    </tr>\n",
       "                </thead>\n",
       "                <tbody>\n",
       "                    \n",
       "                    <tr>\n",
       "                        <th> Bytes </th>\n",
       "                        <td> 130.63 GiB </td>\n",
       "                        <td> 6.03 GiB </td>\n",
       "                    </tr>\n",
       "                    \n",
       "                    <tr>\n",
       "                        <th> Shape </th>\n",
       "                        <td> (24, 2168, 936, 720) </td>\n",
       "                        <td> (24, 100, 936, 720) </td>\n",
       "                    </tr>\n",
       "                    <tr>\n",
       "                        <th> Dask graph </th>\n",
       "                        <td colspan=\"2\"> 22 chunks in 2 graph layers </td>\n",
       "                    </tr>\n",
       "                    <tr>\n",
       "                        <th> Data type </th>\n",
       "                        <td colspan=\"2\"> float32 numpy.ndarray </td>\n",
       "                    </tr>\n",
       "                </tbody>\n",
       "            </table>\n",
       "        </td>\n",
       "        <td>\n",
       "        <svg width=\"354\" height=\"172\" style=\"stroke:rgb(0,0,0);stroke-width:1\" >\n",
       "\n",
       "  <!-- Horizontal lines -->\n",
       "  <line x1=\"0\" y1=\"0\" x2=\"25\" y2=\"0\" style=\"stroke-width:2\" />\n",
       "  <line x1=\"0\" y1=\"25\" x2=\"25\" y2=\"25\" style=\"stroke-width:2\" />\n",
       "\n",
       "  <!-- Vertical lines -->\n",
       "  <line x1=\"0\" y1=\"0\" x2=\"0\" y2=\"25\" style=\"stroke-width:2\" />\n",
       "  <line x1=\"25\" y1=\"0\" x2=\"25\" y2=\"25\" style=\"stroke-width:2\" />\n",
       "\n",
       "  <!-- Colored Rectangle -->\n",
       "  <polygon points=\"0.0,0.0 25.905971579843285,0.0 25.905971579843285,25.412616514582485 0.0,25.412616514582485\" style=\"fill:#ECB172A0;stroke-width:0\"/>\n",
       "\n",
       "  <!-- Text -->\n",
       "  <text x=\"12.952986\" y=\"45.412617\" font-size=\"1.0rem\" font-weight=\"100\" text-anchor=\"middle\" >24</text>\n",
       "  <text x=\"45.905972\" y=\"12.706308\" font-size=\"1.0rem\" font-weight=\"100\" text-anchor=\"middle\" transform=\"rotate(0,45.905972,12.706308)\">1</text>\n",
       "\n",
       "\n",
       "  <!-- Horizontal lines -->\n",
       "  <line x1=\"95\" y1=\"0\" x2=\"165\" y2=\"70\" style=\"stroke-width:2\" />\n",
       "  <line x1=\"95\" y1=\"51\" x2=\"165\" y2=\"122\" style=\"stroke-width:2\" />\n",
       "\n",
       "  <!-- Vertical lines -->\n",
       "  <line x1=\"95\" y1=\"0\" x2=\"95\" y2=\"51\" style=\"stroke-width:2\" />\n",
       "  <line x1=\"98\" y1=\"3\" x2=\"98\" y2=\"55\" />\n",
       "  <line x1=\"101\" y1=\"6\" x2=\"101\" y2=\"58\" />\n",
       "  <line x1=\"104\" y1=\"9\" x2=\"104\" y2=\"61\" />\n",
       "  <line x1=\"108\" y1=\"13\" x2=\"108\" y2=\"64\" />\n",
       "  <line x1=\"111\" y1=\"16\" x2=\"111\" y2=\"68\" />\n",
       "  <line x1=\"114\" y1=\"19\" x2=\"114\" y2=\"71\" />\n",
       "  <line x1=\"117\" y1=\"22\" x2=\"117\" y2=\"74\" />\n",
       "  <line x1=\"121\" y1=\"26\" x2=\"121\" y2=\"77\" />\n",
       "  <line x1=\"124\" y1=\"29\" x2=\"124\" y2=\"81\" />\n",
       "  <line x1=\"127\" y1=\"32\" x2=\"127\" y2=\"84\" />\n",
       "  <line x1=\"130\" y1=\"35\" x2=\"130\" y2=\"87\" />\n",
       "  <line x1=\"134\" y1=\"39\" x2=\"134\" y2=\"90\" />\n",
       "  <line x1=\"137\" y1=\"42\" x2=\"137\" y2=\"94\" />\n",
       "  <line x1=\"140\" y1=\"45\" x2=\"140\" y2=\"97\" />\n",
       "  <line x1=\"143\" y1=\"48\" x2=\"143\" y2=\"100\" />\n",
       "  <line x1=\"147\" y1=\"52\" x2=\"147\" y2=\"103\" />\n",
       "  <line x1=\"150\" y1=\"55\" x2=\"150\" y2=\"107\" />\n",
       "  <line x1=\"153\" y1=\"58\" x2=\"153\" y2=\"110\" />\n",
       "  <line x1=\"156\" y1=\"61\" x2=\"156\" y2=\"113\" />\n",
       "  <line x1=\"160\" y1=\"65\" x2=\"160\" y2=\"116\" />\n",
       "  <line x1=\"163\" y1=\"68\" x2=\"163\" y2=\"120\" />\n",
       "  <line x1=\"165\" y1=\"70\" x2=\"165\" y2=\"122\" style=\"stroke-width:2\" />\n",
       "\n",
       "  <!-- Colored Rectangle -->\n",
       "  <polygon points=\"95.0,0.0 165.58823529411765,70.58823529411765 165.58823529411765,122.39635337529846 95.0,51.80811808118081\" style=\"fill:#ECB172A0;stroke-width:0\"/>\n",
       "\n",
       "  <!-- Horizontal lines -->\n",
       "  <line x1=\"95\" y1=\"0\" x2=\"138\" y2=\"0\" style=\"stroke-width:2\" />\n",
       "  <line x1=\"98\" y1=\"3\" x2=\"142\" y2=\"3\" />\n",
       "  <line x1=\"101\" y1=\"6\" x2=\"145\" y2=\"6\" />\n",
       "  <line x1=\"104\" y1=\"9\" x2=\"148\" y2=\"9\" />\n",
       "  <line x1=\"108\" y1=\"13\" x2=\"151\" y2=\"13\" />\n",
       "  <line x1=\"111\" y1=\"16\" x2=\"155\" y2=\"16\" />\n",
       "  <line x1=\"114\" y1=\"19\" x2=\"158\" y2=\"19\" />\n",
       "  <line x1=\"117\" y1=\"22\" x2=\"161\" y2=\"22\" />\n",
       "  <line x1=\"121\" y1=\"26\" x2=\"164\" y2=\"26\" />\n",
       "  <line x1=\"124\" y1=\"29\" x2=\"168\" y2=\"29\" />\n",
       "  <line x1=\"127\" y1=\"32\" x2=\"171\" y2=\"32\" />\n",
       "  <line x1=\"130\" y1=\"35\" x2=\"174\" y2=\"35\" />\n",
       "  <line x1=\"134\" y1=\"39\" x2=\"177\" y2=\"39\" />\n",
       "  <line x1=\"137\" y1=\"42\" x2=\"181\" y2=\"42\" />\n",
       "  <line x1=\"140\" y1=\"45\" x2=\"184\" y2=\"45\" />\n",
       "  <line x1=\"143\" y1=\"48\" x2=\"187\" y2=\"48\" />\n",
       "  <line x1=\"147\" y1=\"52\" x2=\"190\" y2=\"52\" />\n",
       "  <line x1=\"150\" y1=\"55\" x2=\"194\" y2=\"55\" />\n",
       "  <line x1=\"153\" y1=\"58\" x2=\"197\" y2=\"58\" />\n",
       "  <line x1=\"156\" y1=\"61\" x2=\"200\" y2=\"61\" />\n",
       "  <line x1=\"160\" y1=\"65\" x2=\"203\" y2=\"65\" />\n",
       "  <line x1=\"163\" y1=\"68\" x2=\"207\" y2=\"68\" />\n",
       "  <line x1=\"165\" y1=\"70\" x2=\"209\" y2=\"70\" style=\"stroke-width:2\" />\n",
       "\n",
       "  <!-- Vertical lines -->\n",
       "  <line x1=\"95\" y1=\"0\" x2=\"165\" y2=\"70\" style=\"stroke-width:2\" />\n",
       "  <line x1=\"138\" y1=\"0\" x2=\"209\" y2=\"70\" style=\"stroke-width:2\" />\n",
       "\n",
       "  <!-- Colored Rectangle -->\n",
       "  <polygon points=\"95.0,0.0 138.8742618500687,0.0 209.46249714418636,70.58823529411765 165.58823529411765,70.58823529411765\" style=\"fill:#ECB172A0;stroke-width:0\"/>\n",
       "\n",
       "  <!-- Horizontal lines -->\n",
       "  <line x1=\"165\" y1=\"70\" x2=\"209\" y2=\"70\" style=\"stroke-width:2\" />\n",
       "  <line x1=\"165\" y1=\"122\" x2=\"209\" y2=\"122\" style=\"stroke-width:2\" />\n",
       "\n",
       "  <!-- Vertical lines -->\n",
       "  <line x1=\"165\" y1=\"70\" x2=\"165\" y2=\"122\" style=\"stroke-width:2\" />\n",
       "  <line x1=\"209\" y1=\"70\" x2=\"209\" y2=\"122\" style=\"stroke-width:2\" />\n",
       "\n",
       "  <!-- Colored Rectangle -->\n",
       "  <polygon points=\"165.58823529411765,70.58823529411765 209.46249714418636,70.58823529411765 209.46249714418636,122.39635337529846 165.58823529411765,122.39635337529846\" style=\"fill:#ECB172A0;stroke-width:0\"/>\n",
       "\n",
       "  <!-- Text -->\n",
       "  <text x=\"187.525366\" y=\"142.396353\" font-size=\"1.0rem\" font-weight=\"100\" text-anchor=\"middle\" >720</text>\n",
       "  <text x=\"229.462497\" y=\"96.492294\" font-size=\"1.0rem\" font-weight=\"100\" text-anchor=\"middle\" transform=\"rotate(-90,229.462497,96.492294)\">936</text>\n",
       "  <text x=\"120.294118\" y=\"107.102236\" font-size=\"1.0rem\" font-weight=\"100\" text-anchor=\"middle\" transform=\"rotate(45,120.294118,107.102236)\">2168</text>\n",
       "</svg>\n",
       "        </td>\n",
       "    </tr>\n",
       "</table>"
      ],
      "text/plain": [
       "dask.array<astype, shape=(24, 2168, 936, 720), dtype=float32, chunksize=(24, 100, 936, 720), chunktype=numpy.ndarray>"
      ]
     },
     "execution_count": 81,
     "metadata": {},
     "output_type": "execute_result"
    }
   ],
   "source": []
  },
  {
   "cell_type": "code",
   "execution_count": null,
   "id": "f2466e06-29fe-4387-b5c7-d0d1396e357d",
   "metadata": {},
   "outputs": [],
   "source": []
  }
 ],
 "metadata": {
  "kernelspec": {
   "display_name": "Python [conda env:suite3d-gpu]",
   "language": "python",
   "name": "conda-env-suite3d-gpu-py"
  },
  "language_info": {
   "codemirror_mode": {
    "name": "ipython",
    "version": 3
   },
   "file_extension": ".py",
   "mimetype": "text/x-python",
   "name": "python",
   "nbconvert_exporter": "python",
   "pygments_lexer": "ipython3",
   "version": "3.8.20"
  }
 },
 "nbformat": 4,
 "nbformat_minor": 5
}
