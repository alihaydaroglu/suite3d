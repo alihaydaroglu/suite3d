{
 "cells": [
  {
   "cell_type": "code",
   "execution_count": 1,
   "id": "d11950fd-3877-4710-a0ce-216c41b2f029",
   "metadata": {},
   "outputs": [],
   "source": [
    "%load_ext autoreload\n",
    "%autoreload "
   ]
  },
  {
   "cell_type": "code",
   "execution_count": 2,
   "id": "e9f9827c-9d19-458b-8894-f609f94781e9",
   "metadata": {},
   "outputs": [],
   "source": [
    "\n",
    "import os \n",
    "import shutil\n",
    "import numpy as n\n",
    "from datetime import date\n",
    "from matplotlib import pyplot as plt\n",
    "import time\n",
    "\n",
    "os.chdir('/home/ali/packages/s2p-lbm/')\n",
    "from scipy import stats\n",
    "import suite2p\n",
    "from suite3d import plot_utils as plot"
   ]
  },
  {
   "cell_type": "code",
   "execution_count": 3,
   "id": "3794f23f-f054-45ad-a7d8-d969c7f01d22",
   "metadata": {},
   "outputs": [],
   "source": [
    "from importlib import reload\n",
    "from pathlib import Path"
   ]
  },
  {
   "cell_type": "code",
   "execution_count": 6,
   "id": "53dc324f-3f54-48f4-a172-20fcac6c2d11",
   "metadata": {},
   "outputs": [
    {
     "name": "stdout",
     "output_type": "stream",
     "text": [
      "   Found and loaded params from /mnt/md0/runs/s3d-SS003_2024-08-06_2/params.npy\n"
     ]
    }
   ],
   "source": [
    "from suite3d.job import Job\n",
    "\n",
    "job = Job('/mnt/md0/runs','SS003_2024-08-06_2', create=False)"
   ]
  },
  {
   "cell_type": "code",
   "execution_count": 7,
   "id": "738a53b9-ef3e-4e36-94ae-3b03088ee81a",
   "metadata": {},
   "outputs": [
    {
     "ename": "SyntaxError",
     "evalue": "invalid syntax (3463373553.py, line 1)",
     "output_type": "error",
     "traceback": [
      "\u001b[0;36m  Cell \u001b[0;32mIn[7], line 1\u001b[0;36m\u001b[0m\n\u001b[0;31m    timing = {'extraction': 96, 'segmentation': 3*60 + 18, 'corrmap' : 104, 'data_io' :}\u001b[0m\n\u001b[0m                                                                                       ^\u001b[0m\n\u001b[0;31mSyntaxError\u001b[0m\u001b[0;31m:\u001b[0m invalid syntax\n"
     ]
    }
   ],
   "source": [
    "timing = {'extraction': 96, 'segmentation': 3*60 + 18, 'corrmap' : 104, 'data_io' :}"
   ]
  },
  {
   "cell_type": "code",
   "execution_count": 10,
   "id": "a13b0df9-d99f-4d19-970f-1913a0e9844c",
   "metadata": {},
   "outputs": [
    {
     "name": "stdout",
     "output_type": "stream",
     "text": [
      "[{'uid': '9A1B7D0F2A67F484', 'center': array([0, 0]), 'sizeXY': array([ 2.7  , 16.875]), 'pixXY': array([144, 900])}, {'uid': 'D13AC8ABC660883F', 'center': array([2.7, 0. ]), 'sizeXY': array([ 2.7  , 16.875]), 'pixXY': array([144, 900])}, {'uid': '66DCE42C83645264', 'center': array([5.4, 0. ]), 'sizeXY': array([ 2.7  , 16.875]), 'pixXY': array([144, 900])}, {'uid': '18B13E686766C950', 'center': array([0, 0]), 'sizeXY': array([ 2.7  , 16.875]), 'pixXY': array([144, 900])}, {'uid': '305F5B1ABEA43014', 'center': array([-2.7,  0. ]), 'sizeXY': array([ 2.7  , 16.875]), 'pixXY': array([144, 900])}, {'uid': '886741FECFC3BCA6', 'center': array([-5.4,  0. ]), 'sizeXY': array([ 2.7  , 16.875]), 'pixXY': array([144, 900])}]\n",
      "[288 432 576 288 144   0]\n",
      "/mnt/zortex-subjects/SS003/2024-08-06/2/2024-08-06_2_SS003_2P_00001_00001.tif\n",
      "      Loading /mnt/zortex-subjects/SS003/2024-08-06/2/2024-08-06_2_SS003_2P_00001_00001.tif\n",
      "    Loaded file into shared memory in 4.77 sec\n",
      "    Workers completed in 0.85 sec\n",
      "    Total time: 5.62 sec\n",
      "   Loaded 1 files, total 0.84 GB\n",
      "/mnt/zortex-subjects/SS003/2024-08-06/2/2024-08-06_2_SS003_2P_00001_00002.tif\n",
      "      Loading /mnt/zortex-subjects/SS003/2024-08-06/2/2024-08-06_2_SS003_2P_00001_00002.tif\n",
      "    Loaded file into shared memory in 20.13 sec\n",
      "    Workers completed in 1.55 sec\n",
      "    Total time: 21.68 sec\n",
      "   Loaded 1 files, total 0.84 GB\n",
      "/mnt/zortex-subjects/SS003/2024-08-06/2/2024-08-06_2_SS003_2P_00001_00003.tif\n",
      "      Loading /mnt/zortex-subjects/SS003/2024-08-06/2/2024-08-06_2_SS003_2P_00001_00003.tif\n",
      "    Loaded file into shared memory in 22.82 sec\n",
      "    Workers completed in 1.38 sec\n",
      "    Total time: 24.21 sec\n",
      "   Loaded 1 files, total 0.84 GB\n",
      "/mnt/zortex-subjects/SS003/2024-08-06/2/2024-08-06_2_SS003_2P_00001_00004.tif\n",
      "      Loading /mnt/zortex-subjects/SS003/2024-08-06/2/2024-08-06_2_SS003_2P_00001_00004.tif\n",
      "    Loaded file into shared memory in 23.12 sec\n",
      "    Workers completed in 1.25 sec\n",
      "    Total time: 24.37 sec\n",
      "   Loaded 1 files, total 0.84 GB\n",
      "/mnt/zortex-subjects/SS003/2024-08-06/2/2024-08-06_2_SS003_2P_00001_00005.tif\n",
      "      Loading /mnt/zortex-subjects/SS003/2024-08-06/2/2024-08-06_2_SS003_2P_00001_00005.tif\n",
      "    Loaded file into shared memory in 24.39 sec\n",
      "    Workers completed in 1.20 sec\n",
      "    Total time: 25.59 sec\n",
      "   Loaded 1 files, total 0.84 GB\n",
      "/mnt/zortex-subjects/SS003/2024-08-06/2/2024-08-06_2_SS003_2P_00001_00006.tif\n",
      "      Loading /mnt/zortex-subjects/SS003/2024-08-06/2/2024-08-06_2_SS003_2P_00001_00006.tif\n",
      "    Loaded file into shared memory in 24.26 sec\n",
      "    Workers completed in 1.15 sec\n",
      "    Total time: 25.41 sec\n",
      "   Loaded 1 files, total 0.84 GB\n",
      "/mnt/zortex-subjects/SS003/2024-08-06/2/2024-08-06_2_SS003_2P_00001_00007.tif\n",
      "      Loading /mnt/zortex-subjects/SS003/2024-08-06/2/2024-08-06_2_SS003_2P_00001_00007.tif\n",
      "    Loaded file into shared memory in 32.10 sec\n",
      "    Workers completed in 1.41 sec\n",
      "    Total time: 33.51 sec\n",
      "   Loaded 1 files, total 0.84 GB\n",
      "/mnt/zortex-subjects/SS003/2024-08-06/2/2024-08-06_2_SS003_2P_00001_00008.tif\n",
      "      Loading /mnt/zortex-subjects/SS003/2024-08-06/2/2024-08-06_2_SS003_2P_00001_00008.tif\n",
      "    Loaded file into shared memory in 25.94 sec\n",
      "    Workers completed in 1.41 sec\n",
      "    Total time: 27.35 sec\n",
      "   Loaded 1 files, total 0.84 GB\n",
      "/mnt/zortex-subjects/SS003/2024-08-06/2/2024-08-06_2_SS003_2P_00001_00009.tif\n",
      "      Loading /mnt/zortex-subjects/SS003/2024-08-06/2/2024-08-06_2_SS003_2P_00001_00009.tif\n",
      "    Loaded file into shared memory in 26.52 sec\n",
      "    Workers completed in 1.25 sec\n",
      "    Total time: 27.76 sec\n",
      "   Loaded 1 files, total 0.84 GB\n",
      "/mnt/zortex-subjects/SS003/2024-08-06/2/2024-08-06_2_SS003_2P_00001_00010.tif\n",
      "      Loading /mnt/zortex-subjects/SS003/2024-08-06/2/2024-08-06_2_SS003_2P_00001_00010.tif\n",
      "    Loaded file into shared memory in 25.03 sec\n",
      "    Workers completed in 1.40 sec\n",
      "    Total time: 26.42 sec\n",
      "   Loaded 1 files, total 0.84 GB\n",
      "/mnt/zortex-subjects/SS003/2024-08-06/2/2024-08-06_2_SS003_2P_00001_00011.tif\n",
      "      Loading /mnt/zortex-subjects/SS003/2024-08-06/2/2024-08-06_2_SS003_2P_00001_00011.tif\n",
      "    Loaded file into shared memory in 25.94 sec\n",
      "    Workers completed in 1.14 sec\n",
      "    Total time: 27.07 sec\n",
      "   Loaded 1 files, total 0.84 GB\n",
      "/mnt/zortex-subjects/SS003/2024-08-06/2/2024-08-06_2_SS003_2P_00001_00012.tif\n",
      "      Loading /mnt/zortex-subjects/SS003/2024-08-06/2/2024-08-06_2_SS003_2P_00001_00012.tif\n",
      "    Loaded file into shared memory in 25.78 sec\n",
      "    Workers completed in 1.09 sec\n",
      "    Total time: 26.87 sec\n",
      "   Loaded 1 files, total 0.84 GB\n",
      "/mnt/zortex-subjects/SS003/2024-08-06/2/2024-08-06_2_SS003_2P_00001_00013.tif\n",
      "      Loading /mnt/zortex-subjects/SS003/2024-08-06/2/2024-08-06_2_SS003_2P_00001_00013.tif\n",
      "    Loaded file into shared memory in 25.60 sec\n",
      "    Workers completed in 1.07 sec\n",
      "    Total time: 26.67 sec\n",
      "   Loaded 1 files, total 0.84 GB\n",
      "/mnt/zortex-subjects/SS003/2024-08-06/2/2024-08-06_2_SS003_2P_00001_00014.tif\n",
      "      Loading /mnt/zortex-subjects/SS003/2024-08-06/2/2024-08-06_2_SS003_2P_00001_00014.tif\n",
      "    Loaded file into shared memory in 26.89 sec\n",
      "    Workers completed in 1.06 sec\n",
      "    Total time: 27.95 sec\n",
      "   Loaded 1 files, total 0.84 GB\n",
      "/mnt/zortex-subjects/SS003/2024-08-06/2/2024-08-06_2_SS003_2P_00001_00015.tif\n",
      "      Loading /mnt/zortex-subjects/SS003/2024-08-06/2/2024-08-06_2_SS003_2P_00001_00015.tif\n",
      "    Loaded file into shared memory in 25.60 sec\n",
      "    Workers completed in 0.99 sec\n",
      "    Total time: 26.59 sec\n",
      "   Loaded 1 files, total 0.84 GB\n",
      "/mnt/zortex-subjects/SS003/2024-08-06/2/2024-08-06_2_SS003_2P_00001_00016.tif\n",
      "      Loading /mnt/zortex-subjects/SS003/2024-08-06/2/2024-08-06_2_SS003_2P_00001_00016.tif\n",
      "    Loaded file into shared memory in 24.16 sec\n",
      "    Workers completed in 1.02 sec\n",
      "    Total time: 25.18 sec\n",
      "   Loaded 1 files, total 0.84 GB\n",
      "/mnt/zortex-subjects/SS003/2024-08-06/2/2024-08-06_2_SS003_2P_00001_00017.tif\n",
      "      Loading /mnt/zortex-subjects/SS003/2024-08-06/2/2024-08-06_2_SS003_2P_00001_00017.tif\n",
      "    Loaded file into shared memory in 24.97 sec\n",
      "    Workers completed in 1.01 sec\n",
      "    Total time: 25.98 sec\n",
      "   Loaded 1 files, total 0.84 GB\n",
      "/mnt/zortex-subjects/SS003/2024-08-06/2/2024-08-06_2_SS003_2P_00001_00018.tif\n",
      "      Loading /mnt/zortex-subjects/SS003/2024-08-06/2/2024-08-06_2_SS003_2P_00001_00018.tif\n",
      "    Loaded file into shared memory in 26.08 sec\n",
      "    Workers completed in 1.03 sec\n",
      "    Total time: 27.10 sec\n",
      "   Loaded 1 files, total 0.84 GB\n",
      "/mnt/zortex-subjects/SS003/2024-08-06/2/2024-08-06_2_SS003_2P_00001_00019.tif\n",
      "      Loading /mnt/zortex-subjects/SS003/2024-08-06/2/2024-08-06_2_SS003_2P_00001_00019.tif\n",
      "    Loaded file into shared memory in 25.29 sec\n",
      "    Workers completed in 1.04 sec\n",
      "    Total time: 26.34 sec\n",
      "   Loaded 1 files, total 0.84 GB\n",
      "/mnt/zortex-subjects/SS003/2024-08-06/2/2024-08-06_2_SS003_2P_00001_00020.tif\n",
      "      Loading /mnt/zortex-subjects/SS003/2024-08-06/2/2024-08-06_2_SS003_2P_00001_00020.tif\n",
      "    Loaded file into shared memory in 24.57 sec\n",
      "    Workers completed in 1.02 sec\n",
      "    Total time: 25.59 sec\n",
      "   Loaded 1 files, total 0.84 GB\n",
      "/mnt/zortex-subjects/SS003/2024-08-06/2/2024-08-06_2_SS003_2P_00001_00021.tif\n",
      "      Loading /mnt/zortex-subjects/SS003/2024-08-06/2/2024-08-06_2_SS003_2P_00001_00021.tif\n",
      "    Loaded file into shared memory in 22.19 sec\n",
      "    Workers completed in 1.04 sec\n",
      "    Total time: 23.23 sec\n",
      "   Loaded 1 files, total 0.84 GB\n",
      "/mnt/zortex-subjects/SS003/2024-08-06/2/2024-08-06_2_SS003_2P_00001_00022.tif\n",
      "      Loading /mnt/zortex-subjects/SS003/2024-08-06/2/2024-08-06_2_SS003_2P_00001_00022.tif\n",
      "    Loaded file into shared memory in 9.54 sec\n",
      "    Workers completed in 0.78 sec\n",
      "    Total time: 10.33 sec\n",
      "   Loaded 1 files, total 0.57 GB\n"
     ]
    }
   ],
   "source": [
    "# %%time\n",
    "# # SAVE DATA FOR s2p Run\n",
    "# from suite3d.io.s3dio import s3dio\n",
    "# from suite3d import reference_image as ref\n",
    "# import tifffile\n",
    "\n",
    "# jobio = s3dio(job)\n",
    "\n",
    "# raw_data_path = '/mnt/md0/runs/s2p-SS003_2024-08-06_2/raw'\n",
    "\n",
    "# os.makedirs(raw_data_path,exist_ok=True)\n",
    "\n",
    "# planes = n.array([6,7,8,9,10,11,12])\n",
    "# fuse_shift = 7\n",
    "# ys, xs = jobio._load_roi_start_pix_lbm(job.params)\n",
    "# for tif in job.tifs:\n",
    "#     print(tif)\n",
    "#     data = jobio.load_data([tif], planes = job.params['planes'])\n",
    "#     out_fname = tif.split('/')[-1].split('.')[0] + f'_{len(planes)}planes.tif'\n",
    "#     out_path = os.path.join(raw_data_path, out_fname)\n",
    "#     data = ref.fuse_mov(data, fuse_shift, n.sort(xs))[0]\n",
    "#     data = n.swapaxes(data,0,1)        \n",
    "#     tifffile.imsave(out_path, data)"
   ]
  },
  {
   "cell_type": "code",
   "execution_count": 8,
   "id": "f42b4d96-ae61-4555-b54d-913cfd9e483f",
   "metadata": {},
   "outputs": [],
   "source": [
    "raw_data_path ='/mnt/md0/runs/s2p-SS003_2024-08-06_2/raw'\n",
    "\n",
    "save_path =  Path('/mnt/md0/runs/s2p-SS003_2024-08-06_2/')\n",
    "\n",
    "ops = suite2p.default_ops()\n",
    "ops['look_one_level_down'] = True\n",
    "ops['subfolders'] = []\n",
    "ops['nplanes'] = 7\n",
    "ops['fs'] = 4.12\n",
    "ops['batch_size'] = 400\n",
    "ops['threshold_scaling'] = 0.1\n",
    "ops['tau'] = 1.3\n",
    "ops['nonrigid'] = False\n",
    "ops['ignore_flyback'] = []\n",
    "ops['data_path'] = [raw_data_path]\n",
    "ops['save_path0'] = str(save_path)\n",
    "# print(ops)\n",
    "ops['do_registration'] = 2"
   ]
  },
  {
   "cell_type": "code",
   "execution_count": 9,
   "id": "92f3e558-7e97-4123-9c65-cadcd8b0da9d",
   "metadata": {
    "scrolled": true
   },
   "outputs": [],
   "source": [
    "# %%time\n",
    "# output_ops = suite2p.run_s2p(ops=ops)"
   ]
  },
  {
   "cell_type": "code",
   "execution_count": 10,
   "id": "3566420b-198b-4a63-a9b6-1719fd267cd6",
   "metadata": {},
   "outputs": [],
   "source": [
    "plane_times = {'init' : 11, 'mcorr' : 28 + 29, 'segmentation' : 33, 'extraction' : 10}\n",
    "plane_total = sum([plane_times[k] for k in plane_times])"
   ]
  },
  {
   "cell_type": "code",
   "execution_count": 11,
   "id": "f16f2339-50c8-4370-8e73-a95bc60eb60b",
   "metadata": {},
   "outputs": [],
   "source": [
    "total_time = 12*60 + 56\n",
    "timings = {k : total_time * plane_times[k] / plane_total for k in plane_times.keys()}"
   ]
  },
  {
   "cell_type": "code",
   "execution_count": 12,
   "id": "873f1125-df4c-47fa-975c-c1e68c805d95",
   "metadata": {},
   "outputs": [],
   "source": [
    "timings_3d = {'extraction': 96, 'segmentation': 3*60 + 18, 'corrmap' : 104, 'init' : 127, 'mcorr' : 7*60+54 }"
   ]
  },
  {
   "cell_type": "code",
   "execution_count": 13,
   "id": "ad09b3e3-25eb-47c8-8147-496a5091b683",
   "metadata": {},
   "outputs": [],
   "source": [
    "total_time_3d = sum(timings_3d[k] for k in timings_3d.keys())"
   ]
  },
  {
   "cell_type": "code",
   "execution_count": null,
   "id": "795e0ec1-478e-4910-ad2a-d517d993cf18",
   "metadata": {},
   "outputs": [],
   "source": []
  },
  {
   "cell_type": "code",
   "execution_count": 31,
   "id": "381bef32-5a38-4278-894a-6b19e8cd8d1a",
   "metadata": {},
   "outputs": [],
   "source": [
    "all_ops = []\n",
    "all_stats = []\n",
    "Fs = []\n",
    "spks = []\n",
    "iscell = []\n",
    "for plane in n.arange(ops['nplanes']):\n",
    "    planedir = (save_path / 'suite2p' / f'plane{plane}')\n",
    "    statx = planedir / 'stat.npy'\n",
    "    opx = planedir / 'ops.npy'\n",
    "    Fsx = planedir / 'F.npy'\n",
    "    spksx = planedir / 'spks.npy'\n",
    "    iscellx = planedir / 'iscell.npy'\n",
    "\n",
    "    plane_stats = n.load(statx, allow_pickle=True)\n",
    "    for i in range(len(plane_stats)):\n",
    "        plane_stats[i]['plane_idx'] = int(plane)\n",
    "    all_stats.append(plane_stats)\n",
    "    all_ops.append(n.load(opx, allow_pickle=True).item())\n",
    "    Fs.append(n.load(Fsx))\n",
    "    spks.append(n.load(spksx))\n",
    "    iscell.append(n.load(iscellx))\n",
    "\n",
    "iscell = n.concatenate(iscell).astype(bool)\n",
    "\n",
    "mean_img = n.stack([op['meanImg'] for op in all_ops])\n",
    "\n",
    "ref_img = n.stack([op['refImg'] for op in all_ops])\n",
    "\n",
    "\n",
    "# corr_map = n.stack([op['Vcorr'] for op in all_ops])\n",
    "\n",
    "nz = mean_img.shape[0]"
   ]
  },
  {
   "cell_type": "code",
   "execution_count": 32,
   "id": "3e503313-534e-481d-be27-751e8bee1729",
   "metadata": {},
   "outputs": [],
   "source": [
    "Fs = n.concatenate(Fs)[iscell[:,0]]\n",
    "spks = n.concatenate(spks)[iscell[:,0]]"
   ]
  },
  {
   "cell_type": "code",
   "execution_count": 33,
   "id": "5c2aea1c-8096-4cfc-85aa-2f294f5e8665",
   "metadata": {},
   "outputs": [],
   "source": [
    "out_stats = [s for i,s in enumerate(n.concatenate(all_stats)) if iscell[i,0]]"
   ]
  },
  {
   "cell_type": "code",
   "execution_count": 35,
   "id": "ed1ce02a-12a8-4677-afff-69901c399b16",
   "metadata": {},
   "outputs": [],
   "source": [
    "n.save(save_path / 'F.npy', Fs)\n",
    "n.save(save_path / 'spks.npy', spks)"
   ]
  },
  {
   "cell_type": "code",
   "execution_count": 44,
   "id": "a11ac2a7-977c-4397-bce4-e0e896b2ebff",
   "metadata": {},
   "outputs": [],
   "source": [
    "meds = n.array([n.concatenate([(s['plane_idx'],), s['med']]) for s in out_stats])"
   ]
  },
  {
   "cell_type": "code",
   "execution_count": 46,
   "id": "bb52f00d-155f-47dc-8c8b-146d84cac670",
   "metadata": {},
   "outputs": [],
   "source": [
    "n.save(save_path / 'meds.npy',meds)"
   ]
  },
  {
   "cell_type": "code",
   "execution_count": 37,
   "id": "1822ee3a-c7ec-4fa2-8e98-3fabfa671d00",
   "metadata": {},
   "outputs": [],
   "source": [
    "n.save(save_path / 'stats.npy',out_stats)"
   ]
  },
  {
   "cell_type": "code",
   "execution_count": null,
   "id": "df4aaf22-e91c-468d-85c2-b420db9ccb9b",
   "metadata": {},
   "outputs": [],
   "source": []
  }
 ],
 "metadata": {
  "kernelspec": {
   "display_name": "Python [conda env:suite2p]",
   "language": "python",
   "name": "conda-env-suite2p-py"
  },
  "language_info": {
   "codemirror_mode": {
    "name": "ipython",
    "version": 3
   },
   "file_extension": ".py",
   "mimetype": "text/x-python",
   "name": "python",
   "nbconvert_exporter": "python",
   "pygments_lexer": "ipython3",
   "version": "3.9.20"
  }
 },
 "nbformat": 4,
 "nbformat_minor": 5
}
