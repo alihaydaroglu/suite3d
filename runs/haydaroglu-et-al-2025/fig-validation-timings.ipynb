{
 "cells": [
  {
   "cell_type": "code",
   "execution_count": 1,
   "id": "d11950fd-3877-4710-a0ce-216c41b2f029",
   "metadata": {},
   "outputs": [],
   "source": [
    "%load_ext autoreload\n",
    "%autoreload "
   ]
  },
  {
   "cell_type": "code",
   "execution_count": 2,
   "id": "e9f9827c-9d19-458b-8894-f609f94781e9",
   "metadata": {},
   "outputs": [],
   "source": [
    "\n",
    "import os \n",
    "import shutil\n",
    "import numpy as n\n",
    "from datetime import date\n",
    "from matplotlib import pyplot as plt\n",
    "import time\n",
    "\n",
    "os.chdir('/home/ali/packages/s2p-lbm/')\n",
    "from scipy import stats\n",
    "import suite2p\n",
    "from suite3d import plot_utils as plot"
   ]
  },
  {
   "cell_type": "code",
   "execution_count": 3,
   "id": "3794f23f-f054-45ad-a7d8-d969c7f01d22",
   "metadata": {},
   "outputs": [],
   "source": [
    "from importlib import reload\n",
    "from pathlib import Path"
   ]
  },
  {
   "cell_type": "code",
   "execution_count": 4,
   "id": "53dc324f-3f54-48f4-a172-20fcac6c2d11",
   "metadata": {},
   "outputs": [
    {
     "name": "stdout",
     "output_type": "stream",
     "text": [
      "No skimage\n",
      "Missing some packages\n",
      "Install gitpython for dev benchmarking to work\n",
      "NO MRCFILE\n",
      "Issues importing compute components\n",
      "No Napari\n",
      "No PyQtGraph\n",
      "   Found and loaded params from /mnt/md0/runs/s3d-SS003_2024-08-06_1-2-3-4-5-6/params.npy\n"
     ]
    }
   ],
   "source": [
    "from suite3d.job import Job\n",
    "\n",
    "job = Job('/mnt/md0/runs','SS003_2024-08-06_1-2-3-4-5-6', create=False)"
   ]
  },
  {
   "cell_type": "code",
   "execution_count": null,
   "id": "71f761cc-da4c-4c82-b8da-44907154ea14",
   "metadata": {},
   "outputs": [],
   "source": [
    "# for a 76 minute recording"
   ]
  },
  {
   "cell_type": "code",
   "execution_count": 10,
   "id": "80613705-b7fd-48aa-ae40-5b00866c98da",
   "metadata": {},
   "outputs": [
    {
     "data": {
      "text/plain": [
       "149.66666666666666"
      ]
     },
     "execution_count": 10,
     "metadata": {},
     "output_type": "execute_result"
    }
   ],
   "source": [
    "8980/60"
   ]
  },
  {
   "cell_type": "code",
   "execution_count": 5,
   "id": "25fccc4e-e36f-4fed-8fb1-6b31ea6a7158",
   "metadata": {},
   "outputs": [
    {
     "name": "stderr",
     "output_type": "stream",
     "text": [
      "/tmp/ipykernel_154143/2265876133.py:18: DeprecationWarning: Calling np.sum(generator) is deprecated, and in the future will give a different result. Use np.sum(np.fromiter(generator)) or the python sum builtin instead.\n",
      "  time_s3d = n.sum(timings_s3d[k] for k in timings_s3d.keys())\n"
     ]
    }
   ],
   "source": [
    "timings_s2p_plane = {\n",
    "    # 'init' : 11.7,\n",
    "    'mcorr' :156.43,\n",
    "    'detect' : 182.28,\n",
    "    'extract' : 35.06,\n",
    "}\n",
    "# plane_time_s2p = 378 #59.9 * 192 / 9\n",
    "\n",
    "time_s2p = 8980 #  plane_time_s2p * 20\n",
    "\n",
    "timings_s3d = {\n",
    "    'init' : 5*60 + 2,\n",
    "    'mcorr' : 73 * 60,\n",
    "    'detect' : 1114,\n",
    "    'segment' : 1814, # 143 * 60,\n",
    "    'extract' : 1036,\n",
    "}\n",
    "time_s3d = n.sum(timings_s3d[k] for k in timings_s3d.keys())"
   ]
  },
  {
   "cell_type": "code",
   "execution_count": 6,
   "id": "f332f0fd-bac6-4c9e-84e0-90c29980b73e",
   "metadata": {},
   "outputs": [],
   "source": [
    "timings_s3d_frac = {}\n",
    "for k in timings_s3d.keys():\n",
    "    timings_s3d_frac[k] = timings_s3d[k] / sum((list(timings_s3d.values())))\n",
    "\n",
    "timings_s2p_frac = {}\n",
    "timings_s2p = {}\n",
    "for k in timings_s2p_plane.keys():\n",
    "    timings_s2p_frac[k] = timings_s2p_plane[k] / sum((list(timings_s2p_plane.values())))\n",
    "    timings_s2p[k] = time_s2p * timings_s2p_frac[k]\n",
    "timings_s2p['io'] = 103*60+5"
   ]
  },
  {
   "cell_type": "code",
   "execution_count": 7,
   "id": "65bdf68d-ab3f-4686-9254-28cb27d17048",
   "metadata": {},
   "outputs": [],
   "source": [
    "fig_dir = Path('/mnt/md0/s3d-figures/fig-val/')\n",
    "\n",
    "os.makedirs(fig_dir, exist_ok=True)"
   ]
  },
  {
   "cell_type": "code",
   "execution_count": 8,
   "id": "8097981e-6c7c-4563-9d19-616c061ecc47",
   "metadata": {},
   "outputs": [
    {
     "data": {
      "image/png": "[encoded data removed]",
      "text/plain": [
       "<Figure size 1600x600 with 1 Axes>"
      ]
     },
     "metadata": {},
     "output_type": "display_data"
    }
   ],
   "source": [
    "f,ax = plt.subplots(figsize=(8,3),dpi=200)\n",
    "posy = n.zeros(2)\n",
    "posx = [1,2]\n",
    "colors = {'init' : 'royalblue',\n",
    "          'mcorr': 'steelblue',\n",
    "           'detect' : 'mediumorchid',\n",
    "           'segment' : 'orchid',\n",
    "           'extract' : 'peru',\n",
    "            'io' : 'lightsteelblue'}\n",
    "all_keys = ['io','init', 'mcorr', 'detect', 'segment', 'extract'] #n.unique(list(timings_s3d.keys()) + list(timings_s2p.keys()))\n",
    "for key in all_keys:\n",
    "    s2pval = timings_s2p.get(key,0) / 3600\n",
    "    s3dval = timings_s3d.get(key,0) / 3600\n",
    "    ax.barh(posx, [s2pval, s3dval], left=posy, color=colors.get(key, 'k'))\n",
    "    posy[0] += s2pval\n",
    "    posy[1] += s3dval\n",
    "ax.set_yticks(posx, ['Suite2P', 'Suite3D'], rotation=90)\n",
    "ax.set_xticks([0,4])\n",
    "ax.set_xlabel(\"Hours\")\n",
    "plt.savefig(fig_dir / 'timing_s2p-s3d.svg',dpi=200, pad_inches =0, bbox_inches='tight')"
   ]
  },
  {
   "cell_type": "code",
   "execution_count": 12,
   "id": "8849bcfb-d93c-4ae4-9e3f-bf92e1009944",
   "metadata": {},
   "outputs": [
    {
     "data": {
      "text/plain": [
       "np.float64(1.7539902845246353)"
      ]
     },
     "execution_count": 12,
     "metadata": {},
     "output_type": "execute_result"
    }
   ],
   "source": [
    "posy[0] / posy[1]"
   ]
  },
  {
   "cell_type": "code",
   "execution_count": null,
   "id": "81cabf16-412f-4974-b0ee-88de7964211a",
   "metadata": {},
   "outputs": [],
   "source": [
    "2.4 "
   ]
  },
  {
   "cell_type": "code",
   "execution_count": 9,
   "id": "53b18e33-e0fb-4f46-b37b-ffa547c56045",
   "metadata": {},
   "outputs": [
    {
     "data": {
      "text/plain": [
       "array([4.2125    , 2.40166667])"
      ]
     },
     "execution_count": 9,
     "metadata": {},
     "output_type": "execute_result"
    }
   ],
   "source": [
    "posy"
   ]
  },
  {
   "cell_type": "code",
   "execution_count": 15,
   "id": "df4aaf22-e91c-468d-85c2-b420db9ccb9b",
   "metadata": {},
   "outputs": [
    {
     "name": "stdout",
     "output_type": "stream",
     "text": [
      "3.3256578947368425\n",
      "1.8955263157894737\n",
      "45.2970297029703\n"
     ]
    }
   ],
   "source": [
    "suite2p_time_per_minute = (4.2125*60)/76\n",
    "suite3d_time_per_minute = (2.401 * 60)/76\n",
    "caiman3d_time_per_minute = (62 + 20 + 100 + 1) / 4.04\n",
    "print(suite2p_time_per_minute)\n",
    "print(suite3d_time_per_minute)\n",
    "print(caiman3d_time_per_minute)"
   ]
  },
  {
   "cell_type": "code",
   "execution_count": 17,
   "id": "2e7ccc7d-d0e9-429b-8914-f832e515a8b4",
   "metadata": {},
   "outputs": [
    {
     "name": "stdout",
     "output_type": "stream",
     "text": [
      "1.7544773011245316\n"
     ]
    }
   ],
   "source": [
    "print(suite2p_time_per_minute/suite3d_time_per_minute)"
   ]
  },
  {
   "cell_type": "code",
   "execution_count": 18,
   "id": "9b25ce7d-0f5b-4d32-89a0-75896cdeb10e",
   "metadata": {},
   "outputs": [
    {
     "name": "stdout",
     "output_type": "stream",
     "text": [
      "23.896808672953927\n"
     ]
    }
   ],
   "source": [
    "print(caiman3d_time_per_minute/suite3d_time_per_minute)"
   ]
  },
  {
   "cell_type": "code",
   "execution_count": null,
   "id": "95983afc-43da-4054-bf53-37231b97b577",
   "metadata": {},
   "outputs": [],
   "source": []
  }
 ],
 "metadata": {
  "kernelspec": {
   "display_name": "Python [conda env:suite2p]",
   "language": "python",
   "name": "conda-env-suite2p-py"
  },
  "language_info": {
   "codemirror_mode": {
    "name": "ipython",
    "version": 3
   },
   "file_extension": ".py",
   "mimetype": "text/x-python",
   "name": "python",
   "nbconvert_exporter": "python",
   "pygments_lexer": "ipython3",
   "version": "3.9.20"
  }
 },
 "nbformat": 4,
 "nbformat_minor": 5
}
