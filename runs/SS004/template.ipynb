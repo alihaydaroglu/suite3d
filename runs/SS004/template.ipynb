{
 "cells": [
  {
   "cell_type": "code",
   "execution_count": null,
   "id": "f57652f9",
   "metadata": {},
   "outputs": [],
   "source": [
    "%load_ext autoreload\n",
    "%autoreload 2\n",
    "\n",
    "import os \n",
    "import shutil\n",
    "import numpy as n\n",
    "from datetime import date\n",
    "from matplotlib import pyplot as plt\n",
    "import time\n",
    "import napari"
   ]
  },
  {
   "cell_type": "code",
   "execution_count": null,
   "id": "1d4aca1f",
   "metadata": {},
   "outputs": [],
   "source": [
    "os.chdir('/home/ali/packages/s2p-lbm/')\n",
    "\n",
    "from suite3d.job import Job\n",
    "from suite3d import lbmio, utils, ui\n",
    "from suite3d import tiff_utils as tfu\n",
    "from suite3d import file_utils as flu\n",
    "from suite3d import nbtools as nbui\n",
    "from suite3d import extension as ext"
   ]
  },
  {
   "cell_type": "code",
   "execution_count": null,
   "id": "b49daef7-1c10-45df-a9c6-0ee17b03a01a",
   "metadata": {},
   "outputs": [],
   "source": [
    "subjects_dir =   '/mnt/zortex-subjects/'\n",
    "expt_info = { \n",
    "    'subject':         'SS002',\n",
    "    'date' :          '2024-07-05',\n",
    "    'expnum' :         [1,2,3,4,5,7,8,9,10,11,12,13,15,17,18,19,20],}\n",
    "\n",
    "tifs, si_params, exp_str = flu.find_exp(subjects_dir, **expt_info, verbose=False)\n",
    "\n",
    "job_params = {    \n",
    "    # number of channels recorded in the tiff file, typically 30\n",
    "    'n_ch_tif' : 26,\n",
    "    # number of planes in the deeper cavity, typically 15\n",
    "    'cavity_size' : 13,\n",
    "    # convert from the Scanimage channel ordering to deep-to-shallow ordering\n",
    "    # in our case, ScanImage channel numbers are in temporal order. \n",
    "    'planes' : n.array([ 0,  2,  4,  6,  8, 10, 12, 14,\n",
    "                        16, 18, 20, 22, 24, 1,  3, 5,  7,9,11, 13, 15,17,19,21]),\n",
    "    # number of files to use for the initial pass\n",
    "    'n_init_files' :   4,\n",
    "    \n",
    "    # number of pixels to fuse between the ROI strips\n",
    "    # the auto-detection doesn't always work well, recommend \n",
    "    # manually tuning it to reduce the stitching artifacts\n",
    "    'fuse_shift_override' : 6,\n",
    "    \n",
    "    # will try to automatically estimate crosstalk using \n",
    "    # the shallowest crosstalk_n_planes planes. if you want to override,\n",
    "    # set override_crosstalk = float between 0 and 1\n",
    "    'subtract_crosstalk' : True,\n",
    "    \n",
    "    # volume rate in acquisition\n",
    "    'fs' : flu.get_si_params(tifs[0])['vol_rate'],\n",
    "    \n",
    "    # 3D GPU registration - fast! \n",
    "    # for now, 3D + GPU are well-tested, other options might have minor bugs\n",
    "    # if you run into them, let us know! we'll fix them\n",
    "    '3d_reg' : False,\n",
    "    'gpu_reg' : True,\n",
    "}\n",
    "}"
   ]
  },
  {
   "cell_type": "code",
   "execution_count": null,
   "id": "756185f0-759d-4ec3-8463-7e9b11c56b55",
   "metadata": {},
   "outputs": [],
   "source": [
    "\n",
    "job_params['fs'] = si_params['vol_rate']\n",
    "\n",
    "savedir = os.path.join('/mnt/md0/runs', expt_info['subject'], expt_info['date'])\n",
    "os.makedirs(savedir, exist_ok=True)\n",
    "\n",
    "# Create the job\n",
    "job = Job('/mnt/md0/runs',exp_str, tifs = tifs,\n",
    "          params=job_params, create=False, overwrite=False, verbosity = 3)"
   ]
  },
  {
   "cell_type": "code",
   "execution_count": null,
   "id": "4969f94e",
   "metadata": {},
   "outputs": [],
   "source": [
    "# optional parameters for initialization\n",
    "# load 1 file to initialize, and select 200 frames randomly to do initalization on\n",
    "job.params['n_init_files'] = 4\n",
    "job.params['init_n_frames'] = None\n",
    "job.params['init_file_sample_method'] = 'even'\n",
    "job.params['voxel_size_um'] = (20, 3.3, 3.3)"
   ]
  },
  {
   "cell_type": "code",
   "execution_count": null,
   "id": "c5310b6e",
   "metadata": {},
   "outputs": [],
   "source": [
    "# %%time\n",
    "# summary = job.run_init_pass()"
   ]
  },
  {
   "cell_type": "code",
   "execution_count": null,
   "id": "f9eede84-bfeb-48de-988a-fc961dc93332",
   "metadata": {},
   "outputs": [],
   "source": [
    "summary = job.load_summary()"
   ]
  },
  {
   "cell_type": "code",
   "execution_count": null,
   "id": "9a7d44fd-255b-46f3-b16c-5311896475af",
   "metadata": {},
   "outputs": [],
   "source": [
    "img = summary['ref_img_3d']"
   ]
  },
  {
   "cell_type": "code",
   "execution_count": null,
   "id": "d45d99a0",
   "metadata": {},
   "outputs": [],
   "source": [
    "# split the large tiffs into files of size 100 after registration\n",
    "job.params['split_tif_size'] = 100"
   ]
  },
  {
   "cell_type": "code",
   "execution_count": null,
   "id": "e465e68a",
   "metadata": {},
   "outputs": [],
   "source": [
    "%%time\n",
    "job.register()"
   ]
  },
  {
   "cell_type": "code",
   "execution_count": null,
   "id": "1729a0af",
   "metadata": {},
   "outputs": [],
   "source": [
    "mov_full = job.get_registered_movie('registered_fused_data', 'fused')\n",
    "im_full = mov_full[:,:200].mean(axis=1).compute()"
   ]
  },
  {
   "cell_type": "code",
   "execution_count": null,
   "id": "1ab501eb",
   "metadata": {},
   "outputs": [],
   "source": [
    "tfu.show_tif(im_full[0])"
   ]
  },
  {
   "cell_type": "code",
   "execution_count": null,
   "id": "4c43035a-2535-4430-bd73-d218122f43d2",
   "metadata": {},
   "outputs": [],
   "source": [
    "job.params['cell_filt_type'] = 'gaussian'\n",
    "\n",
    "job.params['voxel_size_um'] = (20, 3.33, 3.33)\n",
    "job.params['npil_filt_xy_um'] = 70\n",
    "job.params['cell_filt_xy_um'] = 5\n",
    "job.params['sdnorm_exp'] = 0.80\n",
    "\n",
    "params_to_sweep = {\n",
    "    'cell_filt_xy_um' : (5,10),\n",
    "    'npil_filt_xy_um' : (40, 70, 100),\n",
    "    'sdnorm_exp' : (0.8,1.0),\n",
    "}\n",
    "job.sweep_corrmap(params_to_sweep, iter_limit=1)"
   ]
  },
  {
   "cell_type": "code",
   "execution_count": null,
   "id": "23fb44ed",
   "metadata": {},
   "outputs": [],
   "source": [
    "%%time\n",
    "corr_map = job.calculate_corr_map()"
   ]
  },
  {
   "cell_type": "code",
   "execution_count": null,
   "id": "01be52dc-6ea4-4fbf-9468-69272343b565",
   "metadata": {
    "scrolled": true
   },
   "outputs": [],
   "source": [
    "corr_map = job.load_corr_map_results()['vmap']\n",
    "corr_map_thresh = ext.thresh_mask_corr_map(corr_map, thresh_window_size_pix = 51, corrmap_thresh_pct = 50)\n",
    "\n",
    "# most important parameter - any value of the corrmap\n",
    "# above this will be considered a peak for a possible ROI,\n",
    "# and will be used as a \"seed\" to grow an ROI around it\n",
    "# bigger number: fewer ROIs, only bright ones\n",
    "# smaller number: many ROIs, increasingly worse quality\n",
    "job.params['peak_thresh'] = 2.9\n",
    "\n",
    "# optionally, bin the movie in time to speed up detection\n",
    "# probably a good idea if you have high framerate (>5 Hz?)\n",
    "job.params['detection_timebin'] = 1 \n",
    "\n",
    "# when extending an ROI, compare its activity to its neighboring pixels\n",
    "# in frames where the fluorescence is above this percentile\n",
    "job.params['percentile'] = 99.5\n",
    "\n",
    "\n",
    "job.segment_rois(vmap = corr_map_thresh)"
   ]
  },
  {
   "cell_type": "code",
   "execution_count": null,
   "id": "61d2f6e1-1bf4-4f09-b03f-93f559c71162",
   "metadata": {
    "scrolled": true
   },
   "outputs": [],
   "source": [
    "# rois_dir_path = job.combine_patches(n.arange(80), job.dirs['rois'], deduplicate=False,\n",
    "#                                     parent_dir_name='segmentation', info_use_idx=None)"
   ]
  },
  {
   "cell_type": "code",
   "execution_count": null,
   "id": "0899554e-abf0-471c-97c9-31a7925d377d",
   "metadata": {},
   "outputs": [],
   "source": [
    "job.compute_npil_masks(stats_dir = job.dirs['rois'])\n",
    "\n",
    "traces = job.extract_and_deconvolve(stats_dir=job.dirs['rois'],iscell=iscell)"
   ]
  },
  {
   "cell_type": "code",
   "execution_count": null,
   "id": "9245ee46-ed1c-4f1a-9bba-9a4cd17c5f8f",
   "metadata": {},
   "outputs": [],
   "source": [
    "job.export_results('/mnt/zeytin-f1/s3d-results/',result_dir_name='rois')"
   ]
  },
  {
   "cell_type": "code",
   "execution_count": null,
   "id": "fd52a189-3940-413e-b05f-098f3ceec876",
   "metadata": {},
   "outputs": [],
   "source": []
  },
  {
   "cell_type": "code",
   "execution_count": null,
   "id": "7f4c53c3-72de-4467-bc09-b661eae17241",
   "metadata": {},
   "outputs": [],
   "source": []
  },
  {
   "cell_type": "code",
   "execution_count": null,
   "id": "7c542bd9-df48-4a2a-9555-5819dd1e0937",
   "metadata": {},
   "outputs": [],
   "source": []
  },
  {
   "cell_type": "code",
   "execution_count": null,
   "id": "6856591e-7e42-47f8-af65-8dcc877bc53a",
   "metadata": {},
   "outputs": [],
   "source": []
  },
  {
   "cell_type": "code",
   "execution_count": null,
   "id": "3355910c-8124-403c-a9bb-85e712b0754f",
   "metadata": {},
   "outputs": [],
   "source": []
  },
  {
   "cell_type": "code",
   "execution_count": null,
   "id": "b53d9a69-52ca-468b-a79b-4b7c2b2d5053",
   "metadata": {},
   "outputs": [],
   "source": []
  },
  {
   "cell_type": "code",
   "execution_count": null,
   "id": "cb0c047e",
   "metadata": {},
   "outputs": [],
   "source": []
  }
 ],
 "metadata": {
  "kernelspec": {
   "display_name": "Python [conda env:suite3d-gpu]",
   "language": "python",
   "name": "conda-env-suite3d-gpu-py"
  },
  "language_info": {
   "codemirror_mode": {
    "name": "ipython",
    "version": 3
   },
   "file_extension": ".py",
   "mimetype": "text/x-python",
   "name": "python",
   "nbconvert_exporter": "python",
   "pygments_lexer": "ipython3",
   "version": "3.8.20"
  }
 },
 "nbformat": 4,
 "nbformat_minor": 5
}
